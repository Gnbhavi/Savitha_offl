{
 "cells": [
  {
   "cell_type": "code",
   "execution_count": 1,
   "metadata": {},
   "outputs": [],
   "source": [
    "import pandas as pd\n",
    "import statsmodels.api as sm\n",
    "from linearmodels import PanelOLS\n",
    "\n",
    "\n",
    "# Load your panel data into a Pandas DataFrame (replace 'panel_data.csv' with your data file)\n",
    "data = pd.read_csv('panelconversion_entity.csv', index_col=0)\n",
    "panel_data = pd.DataFrame(data)\n",
    "# panel_data = pd.PanelData(panel_data)\n",
    "\n",
    "# Create a multi-index DataFrame\n",
    "# panel_data = panel_data.set_index(['Entity', 'year'])"
   ]
  },
  {
   "cell_type": "code",
   "execution_count": 2,
   "metadata": {},
   "outputs": [],
   "source": [
    "periods = []\n",
    "\n",
    "for i in panel_data.year:\n",
    "    periods.append(\"-\".join(str(i).split(\"-\")[2:]))\n",
    "\n",
    "panel_data[\"period\"] = periods"
   ]
  },
  {
   "cell_type": "code",
   "execution_count": 3,
   "metadata": {},
   "outputs": [],
   "source": [
    "panel_data['period'] = panel_data['period'].astype(int)"
   ]
  },
  {
   "cell_type": "code",
   "execution_count": 4,
   "metadata": {},
   "outputs": [],
   "source": [
    "panel_data = panel_data.set_index(['Entity', 'period'])"
   ]
  },
  {
   "cell_type": "code",
   "execution_count": 5,
   "metadata": {},
   "outputs": [],
   "source": [
    "dependent_variable = ['ALTMAN_Z_SCORE', 'RETURN_ON_ASSET', 'TOBIN_Q_RATIO']\n",
    "# dependent_variable = panel_data['ALTMAN_Z_SCORE']\n",
    "independent_variables = panel_data[['ENVIRON_DISCLOSURE_SCORE', 'SOCIAL_DISCLOSURE_SCORE', \\\n",
    "                        'GOVNCE_DISCLOSURE_SCORE', 'ESG_DISCLOSURE_SCORE']]"
   ]
  },
  {
   "cell_type": "code",
   "execution_count": 16,
   "metadata": {},
   "outputs": [
    {
     "name": "stdout",
     "output_type": "stream",
     "text": [
      "PanelEffectsResults successfully saved as txt.\n",
      "PanelEffectsResults successfully saved as txt.\n",
      "PanelEffectsResults successfully saved as txt.\n"
     ]
    }
   ],
   "source": [
    "# PanelOLS regression\n",
    "\n",
    "for values in dependent_variable:\n",
    "    panel_data_model = PanelOLS(panel_data[values], independent_variables, entity_effects=True)\n",
    "    results = panel_data_model.fit()\n",
    "    results_string = str(results)\n",
    "\n",
    "    # Step 2: Write the string representation to a text file\n",
    "    file_path = \"panel_effects_results\" + values + \".txt\"  # You can specify the desired file path here\n",
    "\n",
    "    with open(file_path, \"w\") as file:\n",
    "        file.write(results_string)\n",
    "\n",
    "    print(\"PanelEffectsResults successfully saved as txt.\")\n",
    "    \n"
   ]
  },
  {
   "cell_type": "code",
   "execution_count": 12,
   "metadata": {},
   "outputs": [
    {
     "data": {
      "text/plain": [
       "linearmodels.panel.results.PanelEffectsResults"
      ]
     },
     "execution_count": 12,
     "metadata": {},
     "output_type": "execute_result"
    }
   ],
   "source": [
    "type(results['RETURN_ON_ASSET'])"
   ]
  },
  {
   "cell_type": "code",
   "execution_count": 9,
   "metadata": {},
   "outputs": [
    {
     "name": "stdout",
     "output_type": "stream",
     "text": [
      "<class 'linearmodels.panel.results.PanelEffectsResults'>\n"
     ]
    }
   ],
   "source": [
    "print(type((results['RETURN_ON_ASSET'])))"
   ]
  },
  {
   "cell_type": "code",
   "execution_count": 14,
   "metadata": {},
   "outputs": [
    {
     "name": "stdout",
     "output_type": "stream",
     "text": [
      "PanelEffectsResults successfully saved as txt.\n"
     ]
    }
   ],
   "source": [
    "# Assuming you have already obtained the PanelEffectsResults object named 'results'\n",
    "\n",
    "# Step 1: Convert the results to a string representation\n",
    "results_string = str(results['RETURN_ON_ASSET'])\n",
    "\n",
    "# Step 2: Write the string representation to a text file\n",
    "file_path = \"panel_effects_results.txt\"  # You can specify the desired file path here\n",
    "\n",
    "with open(file_path, \"w\") as file:\n",
    "    file.write(results_string)\n",
    "\n",
    "print(\"PanelEffectsResults successfully saved as txt.\")\n",
    "\n"
   ]
  },
  {
   "cell_type": "code",
   "execution_count": null,
   "metadata": {},
   "outputs": [],
   "source": []
  }
 ],
 "metadata": {
  "kernelspec": {
   "display_name": "VT_codes",
   "language": "python",
   "name": "python3"
  },
  "language_info": {
   "codemirror_mode": {
    "name": "ipython",
    "version": 3
   },
   "file_extension": ".py",
   "mimetype": "text/x-python",
   "name": "python",
   "nbconvert_exporter": "python",
   "pygments_lexer": "ipython3",
   "version": "3.11.4"
  },
  "orig_nbformat": 4
 },
 "nbformat": 4,
 "nbformat_minor": 2
}
