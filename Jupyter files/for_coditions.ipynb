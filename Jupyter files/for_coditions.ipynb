{
 "cells": [
  {
   "cell_type": "markdown",
   "metadata": {},
   "source": []
  },
  {
   "cell_type": "code",
   "execution_count": 1,
   "metadata": {},
   "outputs": [],
   "source": [
    "import pandas as pd\n",
    "import numpy as np"
   ]
  },
  {
   "cell_type": "code",
   "execution_count": 2,
   "metadata": {},
   "outputs": [],
   "source": [
    "unharmed = pd.read_csv(\"/Users/gnbhavithran/Python_github/savitha/ESG_2023_name_changed_rounded_off.csv\")"
   ]
  },
  {
   "cell_type": "markdown",
   "metadata": {},
   "source": [
    "*_NO_DIR_ON_BRD  \n"
   ]
  },
  {
   "cell_type": "code",
   "execution_count": 3,
   "metadata": {},
   "outputs": [],
   "source": [
    "unharmed = pd.DataFrame(unharmed)"
   ]
  },
  {
   "cell_type": "code",
   "execution_count": 4,
   "metadata": {},
   "outputs": [
    {
     "data": {
      "text/plain": [
       "1353"
      ]
     },
     "execution_count": 4,
     "metadata": {},
     "output_type": "execute_result"
    }
   ],
   "source": [
    "len(unharmed.columns)"
   ]
  },
  {
   "cell_type": "code",
   "execution_count": 5,
   "metadata": {},
   "outputs": [],
   "source": [
    "headers = list(unharmed.columns)"
   ]
  },
  {
   "cell_type": "code",
   "execution_count": 133,
   "metadata": {},
   "outputs": [],
   "source": [
    "to_change = [\"_NO_DIR_ON_BRD\", \"_NUMBER_OF_DIRECTORS_ON_BOARD\", \"_IND_DIR\", \"_CEO_DUALITY\", \"_BRD_DURN\", \"_INDEPENDENT_DIRECTORS\", \"_BOARD_DURATION\", \"_ADT_RATI\", \"_AUDITOR_RATIFICATION\", \"_SHLDR_APROVD_POISON_PILL\", \"_SHAREHOLDER_APPROVED_POISON_PILL\", \"_CLSIFIED_BRD_SYSTEM\", \"CLASSIFIED_BOARD_SYSTEM\"]"
   ]
  },
  {
   "cell_type": "code",
   "execution_count": 134,
   "metadata": {},
   "outputs": [],
   "source": [
    "for values in to_change:\n",
    "    for i in headers:\n",
    "        if values in i and \"PCT\" not in i:\n",
    "            unharmed[i] = unharmed[i].fillna(0).round()\n",
    "            unharmed[i].replace(0, np.NAN, inplace = True)"
   ]
  },
  {
   "cell_type": "code",
   "execution_count": 135,
   "metadata": {},
   "outputs": [
    {
     "data": {
      "text/plain": [
       "0    -58.33\n",
       "1    -58.33\n",
       "2    -61.54\n",
       "3    -61.54\n",
       "4    -53.85\n",
       "5    -53.85\n",
       "6    -53.85\n",
       "7    -53.85\n",
       "8    -57.14\n",
       "9    -53.85\n",
       "10   -61.54\n",
       "11   -57.14\n",
       "12   -57.14\n",
       "13   -57.14\n",
       "14   -56.34\n",
       "15   -56.26\n",
       "16   -56.18\n",
       "17   -56.10\n",
       "Name: RIL_PCT_IND_DIR, dtype: float64"
      ]
     },
     "execution_count": 135,
     "metadata": {},
     "output_type": "execute_result"
    }
   ],
   "source": [
    "-unharmed[\"RIL_PCT_IND_DIR\"]"
   ]
  },
  {
   "cell_type": "code",
   "execution_count": 136,
   "metadata": {},
   "outputs": [
    {
     "data": {
      "text/plain": [
       "0     NaN\n",
       "1     NaN\n",
       "2     NaN\n",
       "3     3.0\n",
       "4     3.0\n",
       "5     3.0\n",
       "6     3.0\n",
       "7     3.0\n",
       "8     3.0\n",
       "9     3.0\n",
       "10    3.0\n",
       "11    5.0\n",
       "12    5.0\n",
       "13    5.0\n",
       "14    5.0\n",
       "15    5.0\n",
       "16    5.0\n",
       "17    6.0\n",
       "Name: RIL_BRD_DURN, dtype: float64"
      ]
     },
     "execution_count": 136,
     "metadata": {},
     "output_type": "execute_result"
    }
   ],
   "source": [
    "unharmed[\"RIL_BRD_DURN\"]"
   ]
  },
  {
   "cell_type": "code",
   "execution_count": 137,
   "metadata": {},
   "outputs": [
    {
     "data": {
      "text/plain": [
       "0     NaN\n",
       "1     NaN\n",
       "2     NaN\n",
       "3     NaN\n",
       "4     NaN\n",
       "5     NaN\n",
       "6     NaN\n",
       "7     NaN\n",
       "8     NaN\n",
       "9     NaN\n",
       "10    NaN\n",
       "11    1.0\n",
       "12    1.0\n",
       "13    1.0\n",
       "14    1.0\n",
       "15    1.0\n",
       "16    1.0\n",
       "17    1.0\n",
       "Name: RIL_ADT_RATI, dtype: float64"
      ]
     },
     "execution_count": 137,
     "metadata": {},
     "output_type": "execute_result"
    }
   ],
   "source": [
    "unharmed['RIL_ADT_RATI']"
   ]
  },
  {
   "cell_type": "code",
   "execution_count": 138,
   "metadata": {},
   "outputs": [],
   "source": [
    "to_remove= [\"_ADT_RATI\",\"_AUDITOR_RATIFICATION\",\"_SHLDR_APROVD_POISON_PILL\",\"_SHAREHOLDER_APPROVED_POISON_PILL\",\"_DUAL_CLASS_UNEQUAL_VTG_RTS\",\"_CAPEX_TO_TOT_ASSETS\",\"_CAPEX_TO_TOTAL_ASSETS\",\"_FUND_TOT_ASSETS\",\"_FUND_TOTAL_ASSETS\"]\n"
   ]
  },
  {
   "cell_type": "code",
   "execution_count": 140,
   "metadata": {},
   "outputs": [],
   "source": [
    "for values in to_remove:\n",
    "    for val in headers:\n",
    "        if values in val:\n",
    "            unharmed.pop(val)"
   ]
  },
  {
   "cell_type": "code",
   "execution_count": 143,
   "metadata": {},
   "outputs": [],
   "source": [
    "unharmed.to_csv(\"ESG_2023_name_changed_with_5_colums_removed.csv\")"
   ]
  },
  {
   "cell_type": "code",
   "execution_count": 144,
   "metadata": {},
   "outputs": [
    {
     "data": {
      "text/plain": [
       "1102"
      ]
     },
     "execution_count": 144,
     "metadata": {},
     "output_type": "execute_result"
    }
   ],
   "source": [
    "len(unharmed.columns)"
   ]
  },
  {
   "cell_type": "code",
   "execution_count": 145,
   "metadata": {},
   "outputs": [
    {
     "data": {
      "text/html": [
       "<div>\n",
       "<style scoped>\n",
       "    .dataframe tbody tr th:only-of-type {\n",
       "        vertical-align: middle;\n",
       "    }\n",
       "\n",
       "    .dataframe tbody tr th {\n",
       "        vertical-align: top;\n",
       "    }\n",
       "\n",
       "    .dataframe thead th {\n",
       "        text-align: right;\n",
       "    }\n",
       "</style>\n",
       "<table border=\"1\" class=\"dataframe\">\n",
       "  <thead>\n",
       "    <tr style=\"text-align: right;\">\n",
       "      <th></th>\n",
       "      <th>Unnamed: 0</th>\n",
       "      <th>year</th>\n",
       "      <th>RIL_EDS</th>\n",
       "      <th>RIL_SDS</th>\n",
       "      <th>RIL_GDS</th>\n",
       "      <th>RIL_ESGDS</th>\n",
       "      <th>RIL_ALTMAN_Z_S</th>\n",
       "      <th>RIL_RTN_COM_EQY</th>\n",
       "      <th>RIL_PE_RATIO</th>\n",
       "      <th>RIL_TOBIN_Q_RATIO</th>\n",
       "      <th>...</th>\n",
       "      <th>YES_PCT_INDEPENDENT_DIRECTORS</th>\n",
       "      <th>YES_PCT_IND_DIRECTORS_ON_AUDIT_CMTE</th>\n",
       "      <th>YES_NUM_IND_DIR_ON_CMPNSTN_CMTE</th>\n",
       "      <th>YES_PCT_OF_IND_DIRECTORS_ON_NOM_CMTE</th>\n",
       "      <th>YES_CLASSIFIED_BOARD_SYSTEM</th>\n",
       "      <th>YES_PCT_WOMEN_ON_BOARD</th>\n",
       "      <th>YES_BOARD_DURATION</th>\n",
       "      <th>YES_RETURN_ON_ASSET</th>\n",
       "      <th>YES_TOT_DEBT_TO_TOT_ASSET</th>\n",
       "      <th>YES_IS_RD_EXPEND</th>\n",
       "    </tr>\n",
       "  </thead>\n",
       "  <tbody>\n",
       "    <tr>\n",
       "      <th>0</th>\n",
       "      <td>0</td>\n",
       "      <td>31-03-2006</td>\n",
       "      <td>35.66</td>\n",
       "      <td>28.07</td>\n",
       "      <td>46.43</td>\n",
       "      <td>36.36</td>\n",
       "      <td>3.26</td>\n",
       "      <td>20.40</td>\n",
       "      <td>11.67</td>\n",
       "      <td>1.62</td>\n",
       "      <td>...</td>\n",
       "      <td>NaN</td>\n",
       "      <td>NaN</td>\n",
       "      <td>NaN</td>\n",
       "      <td>NaN</td>\n",
       "      <td>NaN</td>\n",
       "      <td>NaN</td>\n",
       "      <td>NaN</td>\n",
       "      <td>NaN</td>\n",
       "      <td>NaN</td>\n",
       "      <td>NaN</td>\n",
       "    </tr>\n",
       "    <tr>\n",
       "      <th>1</th>\n",
       "      <td>1</td>\n",
       "      <td>31-03-2007</td>\n",
       "      <td>47.29</td>\n",
       "      <td>38.60</td>\n",
       "      <td>62.50</td>\n",
       "      <td>48.76</td>\n",
       "      <td>3.24</td>\n",
       "      <td>20.25</td>\n",
       "      <td>16.50</td>\n",
       "      <td>1.93</td>\n",
       "      <td>...</td>\n",
       "      <td>NaN</td>\n",
       "      <td>NaN</td>\n",
       "      <td>NaN</td>\n",
       "      <td>NaN</td>\n",
       "      <td>NaN</td>\n",
       "      <td>NaN</td>\n",
       "      <td>NaN</td>\n",
       "      <td>NaN</td>\n",
       "      <td>NaN</td>\n",
       "      <td>NaN</td>\n",
       "    </tr>\n",
       "    <tr>\n",
       "      <th>2</th>\n",
       "      <td>2</td>\n",
       "      <td>31-03-2008</td>\n",
       "      <td>47.29</td>\n",
       "      <td>47.37</td>\n",
       "      <td>62.50</td>\n",
       "      <td>50.83</td>\n",
       "      <td>3.62</td>\n",
       "      <td>25.40</td>\n",
       "      <td>16.87</td>\n",
       "      <td>2.39</td>\n",
       "      <td>...</td>\n",
       "      <td>NaN</td>\n",
       "      <td>NaN</td>\n",
       "      <td>NaN</td>\n",
       "      <td>NaN</td>\n",
       "      <td>NaN</td>\n",
       "      <td>NaN</td>\n",
       "      <td>NaN</td>\n",
       "      <td>NaN</td>\n",
       "      <td>NaN</td>\n",
       "      <td>NaN</td>\n",
       "    </tr>\n",
       "    <tr>\n",
       "      <th>3</th>\n",
       "      <td>3</td>\n",
       "      <td>31-03-2009</td>\n",
       "      <td>47.29</td>\n",
       "      <td>47.37</td>\n",
       "      <td>73.21</td>\n",
       "      <td>53.31</td>\n",
       "      <td>2.14</td>\n",
       "      <td>14.48</td>\n",
       "      <td>14.09</td>\n",
       "      <td>1.36</td>\n",
       "      <td>...</td>\n",
       "      <td>66.67</td>\n",
       "      <td>NaN</td>\n",
       "      <td>NaN</td>\n",
       "      <td>NaN</td>\n",
       "      <td>NaN</td>\n",
       "      <td>NaN</td>\n",
       "      <td>NaN</td>\n",
       "      <td>NaN</td>\n",
       "      <td>11.2769</td>\n",
       "      <td>NaN</td>\n",
       "    </tr>\n",
       "    <tr>\n",
       "      <th>4</th>\n",
       "      <td>4</td>\n",
       "      <td>31-03-2010</td>\n",
       "      <td>47.29</td>\n",
       "      <td>47.37</td>\n",
       "      <td>67.86</td>\n",
       "      <td>52.07</td>\n",
       "      <td>3.04</td>\n",
       "      <td>18.69</td>\n",
       "      <td>13.05</td>\n",
       "      <td>1.69</td>\n",
       "      <td>...</td>\n",
       "      <td>75.00</td>\n",
       "      <td>NaN</td>\n",
       "      <td>NaN</td>\n",
       "      <td>NaN</td>\n",
       "      <td>NaN</td>\n",
       "      <td>12.5</td>\n",
       "      <td>NaN</td>\n",
       "      <td>1.6117</td>\n",
       "      <td>13.3941</td>\n",
       "      <td>NaN</td>\n",
       "    </tr>\n",
       "  </tbody>\n",
       "</table>\n",
       "<p>5 rows × 1102 columns</p>\n",
       "</div>"
      ],
      "text/plain": [
       "   Unnamed: 0        year  RIL_EDS  RIL_SDS  RIL_GDS  RIL_ESGDS  \\\n",
       "0           0  31-03-2006    35.66    28.07    46.43      36.36   \n",
       "1           1  31-03-2007    47.29    38.60    62.50      48.76   \n",
       "2           2  31-03-2008    47.29    47.37    62.50      50.83   \n",
       "3           3  31-03-2009    47.29    47.37    73.21      53.31   \n",
       "4           4  31-03-2010    47.29    47.37    67.86      52.07   \n",
       "\n",
       "   RIL_ALTMAN_Z_S  RIL_RTN_COM_EQY  RIL_PE_RATIO  RIL_TOBIN_Q_RATIO  ...  \\\n",
       "0            3.26            20.40         11.67               1.62  ...   \n",
       "1            3.24            20.25         16.50               1.93  ...   \n",
       "2            3.62            25.40         16.87               2.39  ...   \n",
       "3            2.14            14.48         14.09               1.36  ...   \n",
       "4            3.04            18.69         13.05               1.69  ...   \n",
       "\n",
       "   YES_PCT_INDEPENDENT_DIRECTORS  YES_PCT_IND_DIRECTORS_ON_AUDIT_CMTE  \\\n",
       "0                            NaN                                  NaN   \n",
       "1                            NaN                                  NaN   \n",
       "2                            NaN                                  NaN   \n",
       "3                          66.67                                  NaN   \n",
       "4                          75.00                                  NaN   \n",
       "\n",
       "   YES_NUM_IND_DIR_ON_CMPNSTN_CMTE  YES_PCT_OF_IND_DIRECTORS_ON_NOM_CMTE  \\\n",
       "0                              NaN                                   NaN   \n",
       "1                              NaN                                   NaN   \n",
       "2                              NaN                                   NaN   \n",
       "3                              NaN                                   NaN   \n",
       "4                              NaN                                   NaN   \n",
       "\n",
       "   YES_CLASSIFIED_BOARD_SYSTEM  YES_PCT_WOMEN_ON_BOARD  YES_BOARD_DURATION  \\\n",
       "0                          NaN                     NaN                 NaN   \n",
       "1                          NaN                     NaN                 NaN   \n",
       "2                          NaN                     NaN                 NaN   \n",
       "3                          NaN                     NaN                 NaN   \n",
       "4                          NaN                    12.5                 NaN   \n",
       "\n",
       "   YES_RETURN_ON_ASSET  YES_TOT_DEBT_TO_TOT_ASSET  YES_IS_RD_EXPEND  \n",
       "0                  NaN                        NaN               NaN  \n",
       "1                  NaN                        NaN               NaN  \n",
       "2                  NaN                        NaN               NaN  \n",
       "3                  NaN                    11.2769               NaN  \n",
       "4               1.6117                    13.3941               NaN  \n",
       "\n",
       "[5 rows x 1102 columns]"
      ]
     },
     "execution_count": 145,
     "metadata": {},
     "output_type": "execute_result"
    }
   ],
   "source": [
    "unharmed.head()"
   ]
  },
  {
   "cell_type": "code",
   "execution_count": 147,
   "metadata": {},
   "outputs": [],
   "source": [
    "unharmed.to_excel(\"ESG_2023_name_changed_with_5_colums_removed.xlsx\")"
   ]
  },
  {
   "cell_type": "code",
   "execution_count": null,
   "metadata": {},
   "outputs": [],
   "source": []
  }
 ],
 "metadata": {
  "kernelspec": {
   "display_name": "VT_codes",
   "language": "python",
   "name": "python3"
  },
  "language_info": {
   "codemirror_mode": {
    "name": "ipython",
    "version": 3
   },
   "file_extension": ".py",
   "mimetype": "text/x-python",
   "name": "python",
   "nbconvert_exporter": "python",
   "pygments_lexer": "ipython3",
   "version": "3.10.12"
  },
  "orig_nbformat": 4
 },
 "nbformat": 4,
 "nbformat_minor": 2
}
