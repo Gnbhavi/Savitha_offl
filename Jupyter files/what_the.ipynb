{
 "cells": [
  {
   "cell_type": "code",
   "execution_count": 3,
   "metadata": {},
   "outputs": [],
   "source": [
    "import os\n",
    "import time\n",
    "import math\n",
    "import numpy as np\n",
    "import pandas as pd"
   ]
  },
  {
   "cell_type": "code",
   "execution_count": 4,
   "metadata": {},
   "outputs": [],
   "source": [
    "def excel_file_reader(excel_file, sheet_names):\n",
    "    df = {}\n",
    "    for sheet_name in sheet_names:\n",
    "        df[sheet_name] = pd.read_excel(excel_file, sheet_name=sheet_name, header=None)\n",
    "    return df"
   ]
  },
  {
   "cell_type": "code",
   "execution_count": 5,
   "metadata": {},
   "outputs": [],
   "source": [
    "def pivoit_table(list_table_to_change, column_count):\n",
    "    transposed_list_table = list(map(list, zip(*list_table_to_change)))\n",
    "    from itertools import chain\n",
    "\n",
    "    matrix2 = []\n",
    "    for k1 in range(column_count):\n",
    "        values = []\n",
    "        for i in range(k1, len(transposed_list_table), column_count):\n",
    "            values.append(transposed_list_table[i])\n",
    "        flattened_list = list(chain.from_iterable(values))\n",
    "        matrix2.append(flattened_list)\n",
    "    final_table = list(map(list, zip(*matrix2)))\n",
    "    return final_table"
   ]
  },
  {
   "cell_type": "code",
   "execution_count": 6,
   "metadata": {},
   "outputs": [],
   "source": [
    "def company_name_creator(company_list, year_count):\n",
    "    company_list_new =[]\n",
    "    for values_hell in company_list:\n",
    "        for i in range(year_count):\n",
    "            company_list_new.append(values_hell)\n",
    "    print(len(company_list_new))\n",
    "    return company_list_new"
   ]
  },
  {
   "cell_type": "code",
   "execution_count": 283,
   "metadata": {},
   "outputs": [],
   "source": [
    "savitha_1_path = \"02_09_23/savita.xlsx\"\n",
    "sheet_names = ['Sheet3','Sheet4']\n",
    "savitha1 = excel_file_reader(savitha_1_path, sheet_names)\n",
    "savitha_2_path = \"02_09_23/savita 2.xlsx\"\n",
    "sheet_names = ['Sheet2', 'Sheet4', 'Sheet6']\n",
    "savitha2 = excel_file_reader(savitha_2_path, sheet_names)"
   ]
  },
  {
   "cell_type": "code",
   "execution_count": 284,
   "metadata": {},
   "outputs": [],
   "source": [
    "remove_word = \" IN Equity\"\n",
    "DAtes = savitha1['Sheet4'].iloc[3:, 0]\n",
    "Total_companies_count = 1086\n",
    "Dates = pd.to_datetime(DAtes).dt.date.astype(str).tolist()\n",
    "Dates = Dates * Total_companies_count\n",
    "Dates = pd.DataFrame(Dates, columns=['Dates'])\n",
    "columns_1 = savitha1['Sheet4'].iloc[2, 1:15].values.tolist()\n",
    "selected_data = savitha1['Sheet4'].iloc[3:, 1:]\n",
    "companies = [company[0].replace(remove_word, \"\") for company in savitha1['Sheet3'].values]"
   ]
  },
  {
   "cell_type": "code",
   "execution_count": 285,
   "metadata": {},
   "outputs": [],
   "source": [
    "savitha1_paneled_list = selected_data.values.tolist()\n",
    "savitha1_paneled_list = pivoit_table(savitha1_paneled_list, 14)\n",
    "savitha1_paneled_list = pd.DataFrame(savitha1_paneled_list, columns=columns_1)"
   ]
  },
  {
   "cell_type": "code",
   "execution_count": 286,
   "metadata": {},
   "outputs": [],
   "source": [
    "columns_2 = savitha2['Sheet2'].iloc[5, 4:16].values.tolist()\n",
    "selected_data_2_sheet2 = savitha2['Sheet2'].iloc[6:27, 4:]"
   ]
  },
  {
   "cell_type": "code",
   "execution_count": 287,
   "metadata": {},
   "outputs": [],
   "source": [
    "savitha2_paneled_list_sheet2 = selected_data_2_sheet2.values.tolist()\n",
    "savitha2_paneled_list_sheet2 = pivoit_table(savitha2_paneled_list_sheet2, 12)\n",
    "savitha1_paneled_list_sheet2 = pd.DataFrame(savitha2_paneled_list_sheet2, columns=columns_2)"
   ]
  },
  {
   "cell_type": "code",
   "execution_count": 288,
   "metadata": {},
   "outputs": [],
   "source": [
    "columns_3 = savitha2['Sheet4'].iloc[21, 8:18].values.tolist()\n",
    "selected_data_2_sheet4 = savitha2['Sheet4'].iloc[22:43, 8:]"
   ]
  },
  {
   "cell_type": "code",
   "execution_count": 289,
   "metadata": {},
   "outputs": [],
   "source": [
    "savitha2_paneled_list_sheet4 = selected_data_2_sheet4.values.tolist()\n",
    "savitha2_paneled_list_sheet4 = pivoit_table(savitha2_paneled_list_sheet4, 10)\n",
    "savitha1_paneled_list_sheet4 = pd.DataFrame(savitha2_paneled_list_sheet4, columns=columns_3)"
   ]
  },
  {
   "cell_type": "code",
   "execution_count": 290,
   "metadata": {},
   "outputs": [],
   "source": [
    "columns_4 = savitha2['Sheet6'].iloc[5, 4:10].values.tolist()\n",
    "selected_data_2_sheet6 = savitha2['Sheet6'].iloc[6:27, 4:]"
   ]
  },
  {
   "cell_type": "code",
   "execution_count": 291,
   "metadata": {},
   "outputs": [],
   "source": [
    "savitha2_paneled_list_sheet6 = selected_data_2_sheet6.values.tolist()\n",
    "savitha2_paneled_list_sheet6 = pivoit_table(savitha2_paneled_list_sheet6, 6)\n",
    "savitha1_paneled_list_sheet6 = pd.DataFrame(savitha2_paneled_list_sheet6, columns=columns_4)"
   ]
  },
  {
   "cell_type": "code",
   "execution_count": 295,
   "metadata": {},
   "outputs": [
    {
     "name": "stdout",
     "output_type": "stream",
     "text": [
      "22806\n"
     ]
    }
   ],
   "source": [
    "companies_new = company_name_creator(companies, 21)"
   ]
  },
  {
   "cell_type": "code",
   "execution_count": 299,
   "metadata": {},
   "outputs": [],
   "source": [
    "pivoit_table = pd.concat([Dates, companies_new, savitha1_paneled_list, savitha1_paneled_list_sheet2, savitha1_paneled_list_sheet4, savitha1_paneled_list_sheet6], axis=1)"
   ]
  },
  {
   "cell_type": "code",
   "execution_count": 302,
   "metadata": {},
   "outputs": [],
   "source": [
    "pivoit_table.to_excel(\"02_09_23/panel_data_savi_1_2.xlsx\", index=True)"
   ]
  },
  {
   "cell_type": "code",
   "execution_count": 303,
   "metadata": {},
   "outputs": [],
   "source": [
    "pivoit_table.to_csv(\"02_09_23/panel_data_savi_1_2.csv\", index=True)"
   ]
  },
  {
   "cell_type": "code",
   "execution_count": 8,
   "metadata": {},
   "outputs": [],
   "source": [
    "savitha_4_path = \"02_09_23/savita 4.xlsx\"\n",
    "sheet_names = ['Sheet2', 'Sheet3','Sheet6']\n",
    "savitha4 = excel_file_reader(savitha_4_path, sheet_names)"
   ]
  },
  {
   "cell_type": "code",
   "execution_count": 9,
   "metadata": {},
   "outputs": [],
   "source": [
    "Dates_1 = savitha4['Sheet2'].iloc[6:27, 3]\n",
    "Dates_1 = pd.to_datetime(Dates_1).dt.date.astype(str).tolist()\n",
    "Dates_1 = Dates_1 * 2498\n",
    "Dates_1 = pd.DataFrame(Dates_1, columns=['Dates'])"
   ]
  },
  {
   "cell_type": "code",
   "execution_count": 10,
   "metadata": {},
   "outputs": [
    {
     "data": {
      "text/html": [
       "<div>\n",
       "<style scoped>\n",
       "    .dataframe tbody tr th:only-of-type {\n",
       "        vertical-align: middle;\n",
       "    }\n",
       "\n",
       "    .dataframe tbody tr th {\n",
       "        vertical-align: top;\n",
       "    }\n",
       "\n",
       "    .dataframe thead th {\n",
       "        text-align: right;\n",
       "    }\n",
       "</style>\n",
       "<table border=\"1\" class=\"dataframe\">\n",
       "  <thead>\n",
       "    <tr style=\"text-align: right;\">\n",
       "      <th></th>\n",
       "      <th>Dates</th>\n",
       "    </tr>\n",
       "  </thead>\n",
       "  <tbody>\n",
       "    <tr>\n",
       "      <th>0</th>\n",
       "      <td>2003-03-31</td>\n",
       "    </tr>\n",
       "    <tr>\n",
       "      <th>1</th>\n",
       "      <td>2004-03-31</td>\n",
       "    </tr>\n",
       "    <tr>\n",
       "      <th>2</th>\n",
       "      <td>2005-03-31</td>\n",
       "    </tr>\n",
       "    <tr>\n",
       "      <th>3</th>\n",
       "      <td>2006-03-31</td>\n",
       "    </tr>\n",
       "    <tr>\n",
       "      <th>4</th>\n",
       "      <td>2007-03-31</td>\n",
       "    </tr>\n",
       "    <tr>\n",
       "      <th>...</th>\n",
       "      <td>...</td>\n",
       "    </tr>\n",
       "    <tr>\n",
       "      <th>52453</th>\n",
       "      <td>2019-03-31</td>\n",
       "    </tr>\n",
       "    <tr>\n",
       "      <th>52454</th>\n",
       "      <td>2020-03-31</td>\n",
       "    </tr>\n",
       "    <tr>\n",
       "      <th>52455</th>\n",
       "      <td>2021-03-31</td>\n",
       "    </tr>\n",
       "    <tr>\n",
       "      <th>52456</th>\n",
       "      <td>2022-03-31</td>\n",
       "    </tr>\n",
       "    <tr>\n",
       "      <th>52457</th>\n",
       "      <td>2023-03-31</td>\n",
       "    </tr>\n",
       "  </tbody>\n",
       "</table>\n",
       "<p>52458 rows × 1 columns</p>\n",
       "</div>"
      ],
      "text/plain": [
       "            Dates\n",
       "0      2003-03-31\n",
       "1      2004-03-31\n",
       "2      2005-03-31\n",
       "3      2006-03-31\n",
       "4      2007-03-31\n",
       "...           ...\n",
       "52453  2019-03-31\n",
       "52454  2020-03-31\n",
       "52455  2021-03-31\n",
       "52456  2022-03-31\n",
       "52457  2023-03-31\n",
       "\n",
       "[52458 rows x 1 columns]"
      ]
     },
     "execution_count": 10,
     "metadata": {},
     "output_type": "execute_result"
    }
   ],
   "source": [
    "Dates_1"
   ]
  },
  {
   "cell_type": "code",
   "execution_count": 11,
   "metadata": {},
   "outputs": [],
   "source": [
    "remove_word = \" IN Equity\"\n",
    "companies_list = pd.DataFrame(savitha4['Sheet2'].iloc[:, 0])\n",
    "companies_1 = [company[0].replace(remove_word, \"\") for company in companies_list.values]"
   ]
  },
  {
   "cell_type": "code",
   "execution_count": 12,
   "metadata": {},
   "outputs": [],
   "source": [
    "columns_4_1 = savitha4['Sheet3'].iloc[5, 4:8].values.tolist()\n",
    "selected_data_4_sheet3 = savitha4['Sheet3'].iloc[6:27, 4:]"
   ]
  },
  {
   "cell_type": "code",
   "execution_count": 13,
   "metadata": {},
   "outputs": [
    {
     "data": {
      "text/plain": [
       "['ENVIRON_DISCLOSURE_SCORE',\n",
       " 'SOCIAL_DISCLOSURE_SCORE',\n",
       " 'GOVNCE_DISCLOSURE_SCORE',\n",
       " 'ESG_DISCLOSURE_SCORE']"
      ]
     },
     "execution_count": 13,
     "metadata": {},
     "output_type": "execute_result"
    }
   ],
   "source": [
    "columns_4_1"
   ]
  },
  {
   "cell_type": "code",
   "execution_count": 14,
   "metadata": {},
   "outputs": [],
   "source": [
    "savitha4_paneled_list_sheet3 = selected_data_4_sheet3.values.tolist()\n",
    "savitha4_paneled_list_sheet3 = pivoit_table(savitha4_paneled_list_sheet3, 4)\n",
    "savitha4_paneled_list_sheet3 = pd.DataFrame(savitha4_paneled_list_sheet3, columns=columns_4_1)"
   ]
  },
  {
   "cell_type": "code",
   "execution_count": 15,
   "metadata": {},
   "outputs": [],
   "source": [
    "columns_4_2 = savitha4['Sheet6'].iloc[5, 4:9].values.tolist()\n",
    "selected_data_4_sheet6 = savitha4['Sheet6'].iloc[6:27, 4:]"
   ]
  },
  {
   "cell_type": "code",
   "execution_count": 16,
   "metadata": {},
   "outputs": [
    {
     "data": {
      "text/plain": [
       "['RETURN_ON_ASSET',\n",
       " 'RETURN_COM_EQY',\n",
       " 'ALTMAN_Z_SCORE',\n",
       " 'TOBIN_Q_RATIO',\n",
       " 'NET_OPER_PROFIT_AFTER_TAX']"
      ]
     },
     "execution_count": 16,
     "metadata": {},
     "output_type": "execute_result"
    }
   ],
   "source": [
    "columns_4_2"
   ]
  },
  {
   "cell_type": "code",
   "execution_count": 17,
   "metadata": {},
   "outputs": [],
   "source": [
    "savitha4_paneled_list_sheet6 = selected_data_4_sheet6.values.tolist()\n",
    "savitha4_paneled_list_sheet6 = pivoit_table(savitha4_paneled_list_sheet6, 5)\n",
    "savitha4_paneled_list_sheet6 = pd.DataFrame(savitha4_paneled_list_sheet6, columns=columns_4_2)"
   ]
  },
  {
   "cell_type": "code",
   "execution_count": 18,
   "metadata": {},
   "outputs": [
    {
     "name": "stdout",
     "output_type": "stream",
     "text": [
      "52458\n"
     ]
    }
   ],
   "source": [
    "companies_new_1 = company_name_creator(companies_1, 21)\n",
    "companies_new_1 = pd.DataFrame(companies_new_1, columns=['Company'])"
   ]
  },
  {
   "cell_type": "code",
   "execution_count": 27,
   "metadata": {},
   "outputs": [],
   "source": [
    "pivioted_table_4 = pd.concat([Dates_1, companies_new_1, savitha4_paneled_list_sheet3, savitha4_paneled_list_sheet6], axis=1)"
   ]
  },
  {
   "cell_type": "code",
   "execution_count": 20,
   "metadata": {},
   "outputs": [],
   "source": [
    "pivioted_table_4.to_excel(\"02_09_23/panel_data_savi_4.xlsx\", index=True)\n",
    "pivioted_table_4.to_csv(\"02_09_23/panel_data_savi_4.csv\", index=True)"
   ]
  },
  {
   "cell_type": "code",
   "execution_count": 34,
   "metadata": {},
   "outputs": [
    {
     "data": {
      "text/html": [
       "<div>\n",
       "<style scoped>\n",
       "    .dataframe tbody tr th:only-of-type {\n",
       "        vertical-align: middle;\n",
       "    }\n",
       "\n",
       "    .dataframe tbody tr th {\n",
       "        vertical-align: top;\n",
       "    }\n",
       "\n",
       "    .dataframe thead th {\n",
       "        text-align: right;\n",
       "    }\n",
       "</style>\n",
       "<table border=\"1\" class=\"dataframe\">\n",
       "  <thead>\n",
       "    <tr style=\"text-align: right;\">\n",
       "      <th></th>\n",
       "      <th>Dates</th>\n",
       "      <th>ENVIRON_DISCLOSURE_SCORE</th>\n",
       "      <th>SOCIAL_DISCLOSURE_SCORE</th>\n",
       "      <th>GOVNCE_DISCLOSURE_SCORE</th>\n",
       "      <th>ESG_DISCLOSURE_SCORE</th>\n",
       "      <th>RETURN_ON_ASSET</th>\n",
       "      <th>RETURN_COM_EQY</th>\n",
       "      <th>ALTMAN_Z_SCORE</th>\n",
       "      <th>TOBIN_Q_RATIO</th>\n",
       "      <th>NET_OPER_PROFIT_AFTER_TAX</th>\n",
       "    </tr>\n",
       "  </thead>\n",
       "  <tbody>\n",
       "    <tr>\n",
       "      <th>0</th>\n",
       "      <td>2003-03-31</td>\n",
       "      <td>NaN</td>\n",
       "      <td>NaN</td>\n",
       "      <td>NaN</td>\n",
       "      <td>NaN</td>\n",
       "      <td>6.6316</td>\n",
       "      <td>13.6836</td>\n",
       "      <td>1.9182</td>\n",
       "      <td>1.1260</td>\n",
       "      <td>44646.6926</td>\n",
       "    </tr>\n",
       "    <tr>\n",
       "      <th>1</th>\n",
       "      <td>2004-03-31</td>\n",
       "      <td>NaN</td>\n",
       "      <td>NaN</td>\n",
       "      <td>NaN</td>\n",
       "      <td>NaN</td>\n",
       "      <td>7.6018</td>\n",
       "      <td>15.7704</td>\n",
       "      <td>2.4134</td>\n",
       "      <td>1.5575</td>\n",
       "      <td>52242.3450</td>\n",
       "    </tr>\n",
       "    <tr>\n",
       "      <th>2</th>\n",
       "      <td>2005-03-31</td>\n",
       "      <td>NaN</td>\n",
       "      <td>NaN</td>\n",
       "      <td>NaN</td>\n",
       "      <td>NaN</td>\n",
       "      <td>9.9542</td>\n",
       "      <td>20.0450</td>\n",
       "      <td>2.5853</td>\n",
       "      <td>1.4304</td>\n",
       "      <td>75091.1009</td>\n",
       "    </tr>\n",
       "    <tr>\n",
       "      <th>3</th>\n",
       "      <td>2006-03-31</td>\n",
       "      <td>32.5883</td>\n",
       "      <td>11.8501</td>\n",
       "      <td>68.0012</td>\n",
       "      <td>37.5214</td>\n",
       "      <td>10.5490</td>\n",
       "      <td>20.4039</td>\n",
       "      <td>3.2640</td>\n",
       "      <td>1.6174</td>\n",
       "      <td>93842.3959</td>\n",
       "    </tr>\n",
       "    <tr>\n",
       "      <th>4</th>\n",
       "      <td>2007-03-31</td>\n",
       "      <td>40.2597</td>\n",
       "      <td>17.0496</td>\n",
       "      <td>71.4931</td>\n",
       "      <td>42.9735</td>\n",
       "      <td>6.5517</td>\n",
       "      <td>13.4590</td>\n",
       "      <td>2.6445</td>\n",
       "      <td>1.8288</td>\n",
       "      <td>103826.5956</td>\n",
       "    </tr>\n",
       "    <tr>\n",
       "      <th>...</th>\n",
       "      <td>...</td>\n",
       "      <td>...</td>\n",
       "      <td>...</td>\n",
       "      <td>...</td>\n",
       "      <td>...</td>\n",
       "      <td>...</td>\n",
       "      <td>...</td>\n",
       "      <td>...</td>\n",
       "      <td>...</td>\n",
       "      <td>...</td>\n",
       "    </tr>\n",
       "    <tr>\n",
       "      <th>52453</th>\n",
       "      <td>2019-03-31</td>\n",
       "      <td>NaN</td>\n",
       "      <td>NaN</td>\n",
       "      <td>NaN</td>\n",
       "      <td>NaN</td>\n",
       "      <td>NaN</td>\n",
       "      <td>NaN</td>\n",
       "      <td>NaN</td>\n",
       "      <td>NaN</td>\n",
       "      <td>NaN</td>\n",
       "    </tr>\n",
       "    <tr>\n",
       "      <th>52454</th>\n",
       "      <td>2020-03-31</td>\n",
       "      <td>NaN</td>\n",
       "      <td>NaN</td>\n",
       "      <td>NaN</td>\n",
       "      <td>NaN</td>\n",
       "      <td>NaN</td>\n",
       "      <td>NaN</td>\n",
       "      <td>NaN</td>\n",
       "      <td>NaN</td>\n",
       "      <td>NaN</td>\n",
       "    </tr>\n",
       "    <tr>\n",
       "      <th>52455</th>\n",
       "      <td>2021-03-31</td>\n",
       "      <td>NaN</td>\n",
       "      <td>NaN</td>\n",
       "      <td>NaN</td>\n",
       "      <td>NaN</td>\n",
       "      <td>NaN</td>\n",
       "      <td>NaN</td>\n",
       "      <td>NaN</td>\n",
       "      <td>NaN</td>\n",
       "      <td>NaN</td>\n",
       "    </tr>\n",
       "    <tr>\n",
       "      <th>52456</th>\n",
       "      <td>2022-03-31</td>\n",
       "      <td>NaN</td>\n",
       "      <td>NaN</td>\n",
       "      <td>NaN</td>\n",
       "      <td>NaN</td>\n",
       "      <td>NaN</td>\n",
       "      <td>NaN</td>\n",
       "      <td>NaN</td>\n",
       "      <td>NaN</td>\n",
       "      <td>NaN</td>\n",
       "    </tr>\n",
       "    <tr>\n",
       "      <th>52457</th>\n",
       "      <td>2023-03-31</td>\n",
       "      <td>NaN</td>\n",
       "      <td>NaN</td>\n",
       "      <td>NaN</td>\n",
       "      <td>NaN</td>\n",
       "      <td>NaN</td>\n",
       "      <td>NaN</td>\n",
       "      <td>NaN</td>\n",
       "      <td>NaN</td>\n",
       "      <td>NaN</td>\n",
       "    </tr>\n",
       "  </tbody>\n",
       "</table>\n",
       "<p>52458 rows × 10 columns</p>\n",
       "</div>"
      ],
      "text/plain": [
       "            Dates  ENVIRON_DISCLOSURE_SCORE  SOCIAL_DISCLOSURE_SCORE  \\\n",
       "0      2003-03-31                       NaN                      NaN   \n",
       "1      2004-03-31                       NaN                      NaN   \n",
       "2      2005-03-31                       NaN                      NaN   \n",
       "3      2006-03-31                   32.5883                  11.8501   \n",
       "4      2007-03-31                   40.2597                  17.0496   \n",
       "...           ...                       ...                      ...   \n",
       "52453  2019-03-31                       NaN                      NaN   \n",
       "52454  2020-03-31                       NaN                      NaN   \n",
       "52455  2021-03-31                       NaN                      NaN   \n",
       "52456  2022-03-31                       NaN                      NaN   \n",
       "52457  2023-03-31                       NaN                      NaN   \n",
       "\n",
       "       GOVNCE_DISCLOSURE_SCORE  ESG_DISCLOSURE_SCORE  RETURN_ON_ASSET  \\\n",
       "0                          NaN                   NaN           6.6316   \n",
       "1                          NaN                   NaN           7.6018   \n",
       "2                          NaN                   NaN           9.9542   \n",
       "3                      68.0012               37.5214          10.5490   \n",
       "4                      71.4931               42.9735           6.5517   \n",
       "...                        ...                   ...              ...   \n",
       "52453                      NaN                   NaN              NaN   \n",
       "52454                      NaN                   NaN              NaN   \n",
       "52455                      NaN                   NaN              NaN   \n",
       "52456                      NaN                   NaN              NaN   \n",
       "52457                      NaN                   NaN              NaN   \n",
       "\n",
       "       RETURN_COM_EQY  ALTMAN_Z_SCORE  TOBIN_Q_RATIO  \\\n",
       "0             13.6836          1.9182         1.1260   \n",
       "1             15.7704          2.4134         1.5575   \n",
       "2             20.0450          2.5853         1.4304   \n",
       "3             20.4039          3.2640         1.6174   \n",
       "4             13.4590          2.6445         1.8288   \n",
       "...               ...             ...            ...   \n",
       "52453             NaN             NaN            NaN   \n",
       "52454             NaN             NaN            NaN   \n",
       "52455             NaN             NaN            NaN   \n",
       "52456             NaN             NaN            NaN   \n",
       "52457             NaN             NaN            NaN   \n",
       "\n",
       "       NET_OPER_PROFIT_AFTER_TAX  \n",
       "0                     44646.6926  \n",
       "1                     52242.3450  \n",
       "2                     75091.1009  \n",
       "3                     93842.3959  \n",
       "4                    103826.5956  \n",
       "...                          ...  \n",
       "52453                        NaN  \n",
       "52454                        NaN  \n",
       "52455                        NaN  \n",
       "52456                        NaN  \n",
       "52457                        NaN  \n",
       "\n",
       "[52458 rows x 10 columns]"
      ]
     },
     "execution_count": 34,
     "metadata": {},
     "output_type": "execute_result"
    }
   ],
   "source": [
    "pivioted_table_4"
   ]
  },
  {
   "cell_type": "code",
   "execution_count": null,
   "metadata": {},
   "outputs": [],
   "source": []
  }
 ],
 "metadata": {
  "kernelspec": {
   "display_name": "savitha",
   "language": "python",
   "name": "python3"
  },
  "language_info": {
   "codemirror_mode": {
    "name": "ipython",
    "version": 3
   },
   "file_extension": ".py",
   "mimetype": "text/x-python",
   "name": "python",
   "nbconvert_exporter": "python",
   "pygments_lexer": "ipython3",
   "version": "3.11.4"
  },
  "orig_nbformat": 4
 },
 "nbformat": 4,
 "nbformat_minor": 2
}
