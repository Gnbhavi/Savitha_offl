{
 "cells": [
  {
   "cell_type": "code",
   "execution_count": 1,
   "metadata": {},
   "outputs": [],
   "source": [
    "import pandas as pd\n",
    "import statsmodels.api as sm\n",
    "import matplotlib.pyplot as plt\n"
   ]
  },
  {
   "cell_type": "code",
   "execution_count": 2,
   "metadata": {},
   "outputs": [],
   "source": [
    "df_panal_data_refined = pd.read_csv(\"panel_data_prediicting_2_refined.csv\")\n",
    "df_panal_data_refined = pd.DataFrame(df_panal_data_refined)"
   ]
  },
  {
   "cell_type": "code",
   "execution_count": 3,
   "metadata": {},
   "outputs": [],
   "source": [
    "df = df_panal_data_refined[df_panal_data_refined['Company Name'] == \"HUVR\"]"
   ]
  },
  {
   "cell_type": "code",
   "execution_count": 4,
   "metadata": {},
   "outputs": [],
   "source": [
    "variable = 'ALTMAN_Z_SCORE'\n",
    "variable_col = df[variable]\n",
    "variable_col_1 = variable_col.dropna()"
   ]
  },
  {
   "cell_type": "code",
   "execution_count": 5,
   "metadata": {},
   "outputs": [],
   "source": [
    "decom = sm.tsa.seasonal_decompose(variable_col_1, model='additive', period=1)\n",
    "trend_component = decom.trend\n",
    "# Assuming you have a time index for your data\n",
    "X = range(len(trend_component))\n",
    "X = sm.add_constant(X)  # Add a constant for the intercept\n",
    "y = trend_component"
   ]
  },
  {
   "cell_type": "code",
   "execution_count": 6,
   "metadata": {},
   "outputs": [
    {
     "data": {
      "text/html": [
       "<style>#sk-container-id-1 {color: black;}#sk-container-id-1 pre{padding: 0;}#sk-container-id-1 div.sk-toggleable {background-color: white;}#sk-container-id-1 label.sk-toggleable__label {cursor: pointer;display: block;width: 100%;margin-bottom: 0;padding: 0.3em;box-sizing: border-box;text-align: center;}#sk-container-id-1 label.sk-toggleable__label-arrow:before {content: \"▸\";float: left;margin-right: 0.25em;color: #696969;}#sk-container-id-1 label.sk-toggleable__label-arrow:hover:before {color: black;}#sk-container-id-1 div.sk-estimator:hover label.sk-toggleable__label-arrow:before {color: black;}#sk-container-id-1 div.sk-toggleable__content {max-height: 0;max-width: 0;overflow: hidden;text-align: left;background-color: #f0f8ff;}#sk-container-id-1 div.sk-toggleable__content pre {margin: 0.2em;color: black;border-radius: 0.25em;background-color: #f0f8ff;}#sk-container-id-1 input.sk-toggleable__control:checked~div.sk-toggleable__content {max-height: 200px;max-width: 100%;overflow: auto;}#sk-container-id-1 input.sk-toggleable__control:checked~label.sk-toggleable__label-arrow:before {content: \"▾\";}#sk-container-id-1 div.sk-estimator input.sk-toggleable__control:checked~label.sk-toggleable__label {background-color: #d4ebff;}#sk-container-id-1 div.sk-label input.sk-toggleable__control:checked~label.sk-toggleable__label {background-color: #d4ebff;}#sk-container-id-1 input.sk-hidden--visually {border: 0;clip: rect(1px 1px 1px 1px);clip: rect(1px, 1px, 1px, 1px);height: 1px;margin: -1px;overflow: hidden;padding: 0;position: absolute;width: 1px;}#sk-container-id-1 div.sk-estimator {font-family: monospace;background-color: #f0f8ff;border: 1px dotted black;border-radius: 0.25em;box-sizing: border-box;margin-bottom: 0.5em;}#sk-container-id-1 div.sk-estimator:hover {background-color: #d4ebff;}#sk-container-id-1 div.sk-parallel-item::after {content: \"\";width: 100%;border-bottom: 1px solid gray;flex-grow: 1;}#sk-container-id-1 div.sk-label:hover label.sk-toggleable__label {background-color: #d4ebff;}#sk-container-id-1 div.sk-serial::before {content: \"\";position: absolute;border-left: 1px solid gray;box-sizing: border-box;top: 0;bottom: 0;left: 50%;z-index: 0;}#sk-container-id-1 div.sk-serial {display: flex;flex-direction: column;align-items: center;background-color: white;padding-right: 0.2em;padding-left: 0.2em;position: relative;}#sk-container-id-1 div.sk-item {position: relative;z-index: 1;}#sk-container-id-1 div.sk-parallel {display: flex;align-items: stretch;justify-content: center;background-color: white;position: relative;}#sk-container-id-1 div.sk-item::before, #sk-container-id-1 div.sk-parallel-item::before {content: \"\";position: absolute;border-left: 1px solid gray;box-sizing: border-box;top: 0;bottom: 0;left: 50%;z-index: -1;}#sk-container-id-1 div.sk-parallel-item {display: flex;flex-direction: column;z-index: 1;position: relative;background-color: white;}#sk-container-id-1 div.sk-parallel-item:first-child::after {align-self: flex-end;width: 50%;}#sk-container-id-1 div.sk-parallel-item:last-child::after {align-self: flex-start;width: 50%;}#sk-container-id-1 div.sk-parallel-item:only-child::after {width: 0;}#sk-container-id-1 div.sk-dashed-wrapped {border: 1px dashed gray;margin: 0 0.4em 0.5em 0.4em;box-sizing: border-box;padding-bottom: 0.4em;background-color: white;}#sk-container-id-1 div.sk-label label {font-family: monospace;font-weight: bold;display: inline-block;line-height: 1.2em;}#sk-container-id-1 div.sk-label-container {text-align: center;}#sk-container-id-1 div.sk-container {/* jupyter's `normalize.less` sets `[hidden] { display: none; }` but bootstrap.min.css set `[hidden] { display: none !important; }` so we also need the `!important` here to be able to override the default hidden behavior on the sphinx rendered scikit-learn.org. See: https://github.com/scikit-learn/scikit-learn/issues/21755 */display: inline-block !important;position: relative;}#sk-container-id-1 div.sk-text-repr-fallback {display: none;}</style><div id=\"sk-container-id-1\" class=\"sk-top-container\"><div class=\"sk-text-repr-fallback\"><pre>LinearRegression()</pre><b>In a Jupyter environment, please rerun this cell to show the HTML representation or trust the notebook. <br />On GitHub, the HTML representation is unable to render, please try loading this page with nbviewer.org.</b></div><div class=\"sk-container\" hidden><div class=\"sk-item\"><div class=\"sk-estimator sk-toggleable\"><input class=\"sk-toggleable__control sk-hidden--visually\" id=\"sk-estimator-id-1\" type=\"checkbox\" checked><label for=\"sk-estimator-id-1\" class=\"sk-toggleable__label sk-toggleable__label-arrow\">LinearRegression</label><div class=\"sk-toggleable__content\"><pre>LinearRegression()</pre></div></div></div></div></div>"
      ],
      "text/plain": [
       "LinearRegression()"
      ]
     },
     "execution_count": 6,
     "metadata": {},
     "output_type": "execute_result"
    }
   ],
   "source": [
    "from sklearn.linear_model import LinearRegression\n",
    "\n",
    "\n",
    "model = LinearRegression()\n",
    "model.fit(X, y)"
   ]
  },
  {
   "cell_type": "code",
   "execution_count": 7,
   "metadata": {},
   "outputs": [
    {
     "data": {
      "text/plain": [
       "array([4.79131602])"
      ]
     },
     "execution_count": 7,
     "metadata": {},
     "output_type": "execute_result"
    }
   ],
   "source": [
    "model.predict([[1, 1]])"
   ]
  },
  {
   "cell_type": "code",
   "execution_count": 8,
   "metadata": {},
   "outputs": [],
   "source": [
    "df_companies = pd.read_csv(\"Missing_data_in_whle_column.csv\")\n",
    "df_companies = pd.DataFrame(df_companies)"
   ]
  },
  {
   "cell_type": "code",
   "execution_count": 9,
   "metadata": {},
   "outputs": [],
   "source": [
    "df_companies = df_companies['1']    "
   ]
  },
  {
   "cell_type": "code",
   "execution_count": 10,
   "metadata": {},
   "outputs": [
    {
     "data": {
      "text/plain": [
       "Index(['Dates', 'Company Name', 'ESG_DISCLOSURE_SCORE',\n",
       "       'ENVIRON_DISCLOSURE_SCORE', 'SOCIAL_DISCLOSURE_SCORE',\n",
       "       'GOVNCE_DISCLOSURE_SCORE', 'NET_INCOME', 'ALTMAN_Z_SCORE',\n",
       "       'TOBIN_Q_RATIO', 'RETURN_ON_ASSET', 'RETURN_COM_EQY', 'SALES_REV_TURN',\n",
       "       'BS_TOT_ASSET', 'BS_CUR_ASSET_REPORT', 'BS_TOT_NON_CUR_ASSET',\n",
       "       'BS_TOTAL_LIABILITIES', 'BS_CUR_LIAB', 'NON_CUR_LIAB',\n",
       "       'BS_PURE_RETAINED_EARNINGS', 'BS_RETAIN_EARN', 'IS_TOTAL_EXPENSES',\n",
       "       'BS_SH_OUT', 'BS_GOODWILL', 'CF_DVD_PAID', 'IS_RD_EXPEND',\n",
       "       'NET_OPER_PROFIT_AFTER_TAX', 'NET_OPER_PROFIT_AFTER_TAX.1',\n",
       "       'NET_INCOME.1', 'EBIT', 'EBK_EMPL_TURNOVER_RATE',\n",
       "       'NUMBER_EMPLOYEES_CSR', 'WACC_COST_EQUITY', 'WACC', 'WACC_COST_DEBT',\n",
       "       'WACC.1', 'FNCL_LVRG', 'BOOK_VAL_PER_SH', 'IS_EPS', 'PX_TO_BOOK_RATIO',\n",
       "       'NET_WORTH_GROWTH', 'TOT_DEBT_TO_COM_EQY'],\n",
       "      dtype='object')"
      ]
     },
     "execution_count": 10,
     "metadata": {},
     "output_type": "execute_result"
    }
   ],
   "source": [
    "df_panal_data_refined.columns"
   ]
  },
  {
   "cell_type": "code",
   "execution_count": 11,
   "metadata": {},
   "outputs": [
    {
     "ename": "AttributeError",
     "evalue": "'numpy.bool_' object has no attribute 'dropna'",
     "output_type": "error",
     "traceback": [
      "\u001b[0;31m---------------------------------------------------------------------------\u001b[0m",
      "\u001b[0;31mAttributeError\u001b[0m                            Traceback (most recent call last)",
      "\u001b[1;32m/Users/gnbhavithran/Python_github/savitha/panal_data_entering_missing_values.ipynb Cell 11\u001b[0m line \u001b[0;36m3\n\u001b[1;32m      <a href='vscode-notebook-cell:/Users/gnbhavithran/Python_github/savitha/panal_data_entering_missing_values.ipynb#X51sZmlsZQ%3D%3D?line=0'>1</a>\u001b[0m \u001b[39mfor\u001b[39;00m companies_val \u001b[39min\u001b[39;00m df_companies:\n\u001b[1;32m      <a href='vscode-notebook-cell:/Users/gnbhavithran/Python_github/savitha/panal_data_entering_missing_values.ipynb#X51sZmlsZQ%3D%3D?line=1'>2</a>\u001b[0m   company_var \u001b[39m=\u001b[39m df_panal_data_refined[df_panal_data_refined[\u001b[39m'\u001b[39m\u001b[39mCompany Name\u001b[39m\u001b[39m'\u001b[39m] \u001b[39m==\u001b[39m companies_val]\u001b[39m.\u001b[39mall()\n\u001b[0;32m----> <a href='vscode-notebook-cell:/Users/gnbhavithran/Python_github/savitha/panal_data_entering_missing_values.ipynb#X51sZmlsZQ%3D%3D?line=2'>3</a>\u001b[0m   k_value \u001b[39m=\u001b[39m company_var[\u001b[39m'\u001b[39m\u001b[39mBS_TOTAL_LIABILITIES\u001b[39m\u001b[39m'\u001b[39m]\u001b[39m.\u001b[39mdropna()\n\u001b[1;32m      <a href='vscode-notebook-cell:/Users/gnbhavithran/Python_github/savitha/panal_data_entering_missing_values.ipynb#X51sZmlsZQ%3D%3D?line=4'>5</a>\u001b[0m   \u001b[39mif\u001b[39;00m k_value \u001b[39m==\u001b[39m \u001b[39m0\u001b[39m:\n\u001b[1;32m      <a href='vscode-notebook-cell:/Users/gnbhavithran/Python_github/savitha/panal_data_entering_missing_values.ipynb#X51sZmlsZQ%3D%3D?line=5'>6</a>\u001b[0m     \u001b[39mprint\u001b[39m(companies_val)\n",
      "\u001b[0;31mAttributeError\u001b[0m: 'numpy.bool_' object has no attribute 'dropna'"
     ]
    }
   ],
   "source": [
    "vars_Val = ['NON_CUR_LIAB', 'BS_TOTAL_LIABILITIES']\n",
    "\n",
    "for companies_val in df_companies:\n",
    "  company_var = df_panal_data_refined[df_panal_data_refined['Company Name'] == companies_val]\n",
    "  k_value = company_var['BS_TOTAL_LIABILITIES'].dropna()\n",
    "  \n",
    "  if k_value == 0:\n",
    "    print(companies_val)\n",
    "  # condition = (df_panal_data_refined['BS_TOTAL_LIABILITIES']) & ()\n",
    "  # k_val = df_panal_data_refined[condition]"
   ]
  },
  {
   "cell_type": "code",
   "execution_count": 1,
   "metadata": {},
   "outputs": [
    {
     "name": "stdout",
     "output_type": "stream",
     "text": [
      "['Hello']\n"
     ]
    }
   ],
   "source": [
    "A = []\n",
    "\n",
    "A.append(\"Hello\")\n",
    "print(A)"
   ]
  },
  {
   "cell_type": "code",
   "execution_count": 2,
   "metadata": {},
   "outputs": [
    {
     "data": {
      "text/plain": [
       "['Hello', 'Savi']"
      ]
     },
     "execution_count": 2,
     "metadata": {},
     "output_type": "execute_result"
    }
   ],
   "source": [
    "A.append(\"Savi\")\n",
    "A"
   ]
  },
  {
   "cell_type": "code",
   "execution_count": 5,
   "metadata": {},
   "outputs": [
    {
     "ename": "TypeError",
     "evalue": "dict.keys() takes no arguments (1 given)",
     "output_type": "error",
     "traceback": [
      "\u001b[0;31m---------------------------------------------------------------------------\u001b[0m",
      "\u001b[0;31mTypeError\u001b[0m                                 Traceback (most recent call last)",
      "\u001b[1;32m/Users/gnbhavithran/Python_github/savitha/panal_data_entering_missing_values.ipynb Cell 14\u001b[0m line \u001b[0;36m3\n\u001b[1;32m      <a href='vscode-notebook-cell:/Users/gnbhavithran/Python_github/savitha/panal_data_entering_missing_values.ipynb#X16sZmlsZQ%3D%3D?line=0'>1</a>\u001b[0m A \u001b[39m=\u001b[39m {}\n\u001b[0;32m----> <a href='vscode-notebook-cell:/Users/gnbhavithran/Python_github/savitha/panal_data_entering_missing_values.ipynb#X16sZmlsZQ%3D%3D?line=2'>3</a>\u001b[0m A\u001b[39m.\u001b[39mkeys([\u001b[39m1\u001b[39m,\u001b[39m2\u001b[39m,\u001b[39m3\u001b[39m])\n",
      "\u001b[0;31mTypeError\u001b[0m: dict.keys() takes no arguments (1 given)"
     ]
    }
   ],
   "source": [
    "A = {}\n",
    "\n",
    "A.keys([1,2,3])"
   ]
  },
  {
   "cell_type": "code",
   "execution_count": 7,
   "metadata": {},
   "outputs": [
    {
     "ename": "IndexError",
     "evalue": "list index out of range",
     "output_type": "error",
     "traceback": [
      "\u001b[0;31m---------------------------------------------------------------------------\u001b[0m",
      "\u001b[0;31mIndexError\u001b[0m                                Traceback (most recent call last)",
      "\u001b[1;32m/Users/gnbhavithran/Python_github/savitha/panal_data_entering_missing_values.ipynb Cell 15\u001b[0m line \u001b[0;36m4\n\u001b[1;32m      <a href='vscode-notebook-cell:/Users/gnbhavithran/Python_github/savitha/panal_data_entering_missing_values.ipynb#X20sZmlsZQ%3D%3D?line=1'>2</a>\u001b[0m B \u001b[39m=\u001b[39m []\n\u001b[1;32m      <a href='vscode-notebook-cell:/Users/gnbhavithran/Python_github/savitha/panal_data_entering_missing_values.ipynb#X20sZmlsZQ%3D%3D?line=2'>3</a>\u001b[0m \u001b[39mfor\u001b[39;00m x, y \u001b[39min\u001b[39;00m A:\n\u001b[0;32m----> <a href='vscode-notebook-cell:/Users/gnbhavithran/Python_github/savitha/panal_data_entering_missing_values.ipynb#X20sZmlsZQ%3D%3D?line=3'>4</a>\u001b[0m   B[x]\u001b[39m.\u001b[39mappend(y)\n",
      "\u001b[0;31mIndexError\u001b[0m: list index out of range"
     ]
    }
   ],
   "source": [
    "A = [(1, 2), (1, 3), (2, 3)]\n",
    "B = []\n",
    "for x, y in A:\n",
    "  B[x].append(y)\n",
    "# dict((x, y) for x, y in A)"
   ]
  },
  {
   "cell_type": "code",
   "execution_count": 9,
   "metadata": {},
   "outputs": [],
   "source": [
    "import json\n",
    "\n",
    "dictionary_data = {\"a\": [1, 2, 3, 4], \"b\": [2, 3]}\n",
    "\n",
    "a_file = open(\"data.json\", \"w\")\n",
    "json.dump(dictionary_data, a_file)\n",
    "a_file.close()"
   ]
  },
  {
   "cell_type": "code",
   "execution_count": null,
   "metadata": {},
   "outputs": [],
   "source": []
  }
 ],
 "metadata": {
  "kernelspec": {
   "display_name": "savitha",
   "language": "python",
   "name": "python3"
  },
  "language_info": {
   "codemirror_mode": {
    "name": "ipython",
    "version": 3
   },
   "file_extension": ".py",
   "mimetype": "text/x-python",
   "name": "python",
   "nbconvert_exporter": "python",
   "pygments_lexer": "ipython3",
   "version": "3.11.4"
  },
  "orig_nbformat": 4
 },
 "nbformat": 4,
 "nbformat_minor": 2
}
