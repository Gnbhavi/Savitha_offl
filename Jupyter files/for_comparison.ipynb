{
 "cells": [
  {
   "cell_type": "code",
   "execution_count": 1,
   "metadata": {},
   "outputs": [],
   "source": [
    "import pandas as pd\n",
    "import numpy as np\n",
    "import pickle\n",
    "import matplotlib.pyplot as plt"
   ]
  },
  {
   "cell_type": "code",
   "execution_count": null,
   "metadata": {},
   "outputs": [],
   "source": [
    "control_variable = [\"FNCL_LVRG\", \"BOOK_VAL_PER_SH\",\n",
    "\"PX_TO_BOOK_RATIO\",\n",
    "\"NET_WORTH_GROWTH\", \n",
    "\"TOT_DEBT_TO_COM_EQY\",\n",
    "\"Liquidity\"]"
   ]
  },
  {
   "cell_type": "code",
   "execution_count": null,
   "metadata": {},
   "outputs": [],
   "source": []
  },
  {
   "cell_type": "code",
   "execution_count": null,
   "metadata": {},
   "outputs": [],
   "source": []
  },
  {
   "cell_type": "code",
   "execution_count": null,
   "metadata": {},
   "outputs": [],
   "source": []
  },
  {
   "cell_type": "code",
   "execution_count": null,
   "metadata": {},
   "outputs": [],
   "source": []
  },
  {
   "cell_type": "code",
   "execution_count": null,
   "metadata": {},
   "outputs": [],
   "source": []
  },
  {
   "cell_type": "code",
   "execution_count": null,
   "metadata": {},
   "outputs": [],
   "source": []
  },
  {
   "cell_type": "code",
   "execution_count": null,
   "metadata": {},
   "outputs": [],
   "source": []
  },
  {
   "cell_type": "code",
   "execution_count": null,
   "metadata": {},
   "outputs": [],
   "source": []
  },
  {
   "cell_type": "code",
   "execution_count": null,
   "metadata": {},
   "outputs": [],
   "source": []
  },
  {
   "cell_type": "code",
   "execution_count": null,
   "metadata": {},
   "outputs": [],
   "source": []
  },
  {
   "cell_type": "code",
   "execution_count": null,
   "metadata": {},
   "outputs": [],
   "source": []
  },
  {
   "cell_type": "code",
   "execution_count": null,
   "metadata": {},
   "outputs": [],
   "source": []
  },
  {
   "cell_type": "code",
   "execution_count": null,
   "metadata": {},
   "outputs": [],
   "source": []
  },
  {
   "cell_type": "code",
   "execution_count": null,
   "metadata": {},
   "outputs": [],
   "source": []
  },
  {
   "cell_type": "code",
   "execution_count": 290,
   "metadata": {},
   "outputs": [],
   "source": [
    "df= pd.read_csv('/Users/gnbhavithran/Python_github/savitha/panel_data_predicting_esg_data_independent_and_dependent_filled_2.csv')\n",
    "\n",
    "df_copy = df.copy()\n",
    "\n",
    "# company_list_dependent_data = pd.read_csv(\"/Users/gnbhavithran/Python_github/savitha/useful_companies.csv\", header=None)\n",
    "\n",
    "# company_list_dependent_data_1 = pd.read_csv(\"/Users/gnbhavithran/Python_github/savitha/not_useful_companies_with_dependent_value_missibg.csv\", header=None)\n"
   ]
  },
  {
   "cell_type": "code",
   "execution_count": 293,
   "metadata": {},
   "outputs": [],
   "source": [
    "x_val = df_copy[df_copy[\"Company Name\"] == 'KAUN']\n"
   ]
  },
  {
   "cell_type": "code",
   "execution_count": 297,
   "metadata": {},
   "outputs": [
    {
     "data": {
      "text/plain": [
       "Index(['Dates', 'Company Name', 'ESG_DISCLOSURE_SCORE',\n",
       "       'ENVIRON_DISCLOSURE_SCORE', 'SOCIAL_DISCLOSURE_SCORE',\n",
       "       'GOVNCE_DISCLOSURE_SCORE', 'NET_INCOME', 'ALTMAN_Z_SCORE',\n",
       "       'TOBIN_Q_RATIO', 'RETURN_ON_ASSET', 'RETURN_COM_EQY', 'SALES_REV_TURN',\n",
       "       'BS_TOT_ASSET', 'BS_CUR_ASSET_REPORT', 'BS_TOT_NON_CUR_ASSET',\n",
       "       'BS_TOTAL_LIABILITIES', 'BS_CUR_LIAB', 'NON_CUR_LIAB',\n",
       "       'BS_PURE_RETAINED_EARNINGS', 'BS_RETAIN_EARN', 'IS_TOTAL_EXPENSES',\n",
       "       'BS_SH_OUT', 'BS_GOODWILL', 'CF_DVD_PAID', 'IS_RD_EXPEND',\n",
       "       'NET_OPER_PROFIT_AFTER_TAX', 'NET_OPER_PROFIT_AFTER_TAX.1',\n",
       "       'NET_INCOME.1', 'EBIT', 'EBK_EMPL_TURNOVER_RATE',\n",
       "       'NUMBER_EMPLOYEES_CSR', 'WACC_COST_EQUITY', 'WACC', 'WACC_COST_DEBT',\n",
       "       'WACC.1', 'FNCL_LVRG', 'BOOK_VAL_PER_SH', 'IS_EPS', 'PX_TO_BOOK_RATIO',\n",
       "       'NET_WORTH_GROWTH', 'TOT_DEBT_TO_COM_EQY'],\n",
       "      dtype='object')"
      ]
     },
     "execution_count": 297,
     "metadata": {},
     "output_type": "execute_result"
    }
   ],
   "source": [
    "df_copy.columns"
   ]
  },
  {
   "cell_type": "code",
   "execution_count": 298,
   "metadata": {},
   "outputs": [],
   "source": [
    "X_values_1 = df_copy[df_copy[\"Company Name\"] == 'KAUN']\n",
    "\n",
    "scores_value = 3 * X_values_1['ESG_DISCLOSURE_SCORE'] - (X_values_1['ENVIRON_DISCLOSURE_SCORE'] + X_values_1['GOVNCE_DISCLOSURE_SCORE'])\n",
    "\n",
    "df_copy.loc[df_copy[\"Company Name\"] == 'KAUN', 'SOCIAL_DISCLOSURE_SCORE'] = scores_value\n"
   ]
  },
  {
   "cell_type": "code",
   "execution_count": 299,
   "metadata": {},
   "outputs": [],
   "source": [
    "df_copy.to_csv(\"/Users/gnbhavithran/Python_github/savitha/panel_data_predicting_esg_data_independent_and_dependent_filled_2.csv\", index=False)"
   ]
  },
  {
   "cell_type": "code",
   "execution_count": 238,
   "metadata": {},
   "outputs": [],
   "source": [
    "with open('/Users/gnbhavithran/Python_github/savitha/4-2-1.pkl', 'rb') as f:\n",
    "  useful_column = pickle.load(f)"
   ]
  },
  {
   "cell_type": "code",
   "execution_count": 261,
   "metadata": {},
   "outputs": [
    {
     "data": {
      "text/plain": [
       "{'ZCVCS': ['ENVIRON_DISCLOSURE_SCORE', 'SOCIAL_DISCLOSURE_SCORE'],\n",
       " 'PEPL': ['ENVIRON_DISCLOSURE_SCORE', 'SOCIAL_DISCLOSURE_SCORE'],\n",
       " 'SJVN': ['ENVIRON_DISCLOSURE_SCORE', 'SOCIAL_DISCLOSURE_SCORE'],\n",
       " 'RDCK': ['ENVIRON_DISCLOSURE_SCORE', 'SOCIAL_DISCLOSURE_SCORE'],\n",
       " 'FNXC': ['ENVIRON_DISCLOSURE_SCORE', 'SOCIAL_DISCLOSURE_SCORE'],\n",
       " 'BRGD': ['ENVIRON_DISCLOSURE_SCORE', 'SOCIAL_DISCLOSURE_SCORE'],\n",
       " 'VGRD': ['ENVIRON_DISCLOSURE_SCORE', 'SOCIAL_DISCLOSURE_SCORE'],\n",
       " 'TRIV': ['ENVIRON_DISCLOSURE_SCORE', 'SOCIAL_DISCLOSURE_SCORE'],\n",
       " 'CRS': ['ENVIRON_DISCLOSURE_SCORE', 'SOCIAL_DISCLOSURE_SCORE'],\n",
       " 'TTKPT': ['ENVIRON_DISCLOSURE_SCORE', 'SOCIAL_DISCLOSURE_SCORE'],\n",
       " 'INDA': ['ENVIRON_DISCLOSURE_SCORE', 'SOCIAL_DISCLOSURE_SCORE'],\n",
       " 'SCHN': ['ENVIRON_DISCLOSURE_SCORE', 'SOCIAL_DISCLOSURE_SCORE'],\n",
       " 'SPADV': ['ENVIRON_DISCLOSURE_SCORE', 'SOCIAL_DISCLOSURE_SCORE'],\n",
       " 'MHRL': ['ENVIRON_DISCLOSURE_SCORE', 'SOCIAL_DISCLOSURE_SCORE'],\n",
       " 'GRAV': ['ENVIRON_DISCLOSURE_SCORE', 'SOCIAL_DISCLOSURE_SCORE'],\n",
       " 'NSE': ['ENVIRON_DISCLOSURE_SCORE', 'SOCIAL_DISCLOSURE_SCORE'],\n",
       " 'TXMRE': ['ENVIRON_DISCLOSURE_SCORE', 'SOCIAL_DISCLOSURE_SCORE'],\n",
       " 'DBCL': ['ENVIRON_DISCLOSURE_SCORE', 'SOCIAL_DISCLOSURE_SCORE'],\n",
       " 'ORCMNT': ['ENVIRON_DISCLOSURE_SCORE', 'SOCIAL_DISCLOSURE_SCORE'],\n",
       " 'ASTM': ['ENVIRON_DISCLOSURE_SCORE', 'SOCIAL_DISCLOSURE_SCORE'],\n",
       " 'BAJAJCON': ['ENVIRON_DISCLOSURE_SCORE', 'SOCIAL_DISCLOSURE_SCORE'],\n",
       " 'RTPOW': ['ENVIRON_DISCLOSURE_SCORE', 'SOCIAL_DISCLOSURE_SCORE'],\n",
       " 'WONH': ['ENVIRON_DISCLOSURE_SCORE', 'SOCIAL_DISCLOSURE_SCORE'],\n",
       " 'KSCL': ['ENVIRON_DISCLOSURE_SCORE', 'SOCIAL_DISCLOSURE_SCORE'],\n",
       " 'ASBL': ['ENVIRON_DISCLOSURE_SCORE', 'SOCIAL_DISCLOSURE_SCORE'],\n",
       " 'BD': ['ENVIRON_DISCLOSURE_SCORE', 'SOCIAL_DISCLOSURE_SCORE'],\n",
       " 'PAISALO': ['ENVIRON_DISCLOSURE_SCORE', 'SOCIAL_DISCLOSURE_SCORE'],\n",
       " 'REPCO': ['ENVIRON_DISCLOSURE_SCORE', 'SOCIAL_DISCLOSURE_SCORE'],\n",
       " 'DEN': ['ENVIRON_DISCLOSURE_SCORE', 'SOCIAL_DISCLOSURE_SCORE'],\n",
       " 'PTCIF': ['ENVIRON_DISCLOSURE_SCORE', 'SOCIAL_DISCLOSURE_SCORE'],\n",
       " 'KTG': ['ENVIRON_DISCLOSURE_SCORE', 'SOCIAL_DISCLOSURE_SCORE'],\n",
       " 'PCJL': ['ENVIRON_DISCLOSURE_SCORE', 'SOCIAL_DISCLOSURE_SCORE']}"
      ]
     },
     "execution_count": 261,
     "metadata": {},
     "output_type": "execute_result"
    }
   ],
   "source": [
    "useful_column"
   ]
  },
  {
   "cell_type": "code",
   "execution_count": 239,
   "metadata": {},
   "outputs": [],
   "source": [
    "del useful_column[\"KAUN\"]"
   ]
  },
  {
   "cell_type": "code",
   "execution_count": 248,
   "metadata": {},
   "outputs": [],
   "source": [
    "scores = [2/5, 3/5]\n",
    "def score_finder(x):\n",
    "  score_values = 3 * x[\"ESG_DISCLOSURE_SCORE\"] - x[\"GOVNCE_DISCLOSURE_SCORE\"]\n",
    "  return score_values"
   ]
  },
  {
   "cell_type": "code",
   "execution_count": 253,
   "metadata": {},
   "outputs": [],
   "source": [
    "missing_variable = ['ENVIRON_DISCLOSURE_SCORE', 'SOCIAL_DISCLOSURE_SCORE']"
   ]
  },
  {
   "cell_type": "code",
   "execution_count": 269,
   "metadata": {},
   "outputs": [],
   "source": [
    "import random\n",
    "\n",
    "for i in useful_column:\n",
    "  x_val = df_copy[df_copy[\"Company Name\"] == i]\n",
    "  random_bool = random.choice([0, 1])\n",
    "  score_val = score_finder(x_val)\n",
    "\n",
    "  for j, values in enumerate(missing_variable):\n",
    "    if random_bool == 1:\n",
    "      H = scores[1 - j] * score_val\n",
    "    else:\n",
    "      H = scores[j] * score_val\n",
    "    df_copy.loc[df_copy[\"Company Name\"] == i, values] = H\n"
   ]
  },
  {
   "cell_type": "code",
   "execution_count": 270,
   "metadata": {},
   "outputs": [],
   "source": [
    "df_copy.to_csv(\"/Users/gnbhavithran/Python_github/savitha/panel_data_predicting_esg_data_independent_filled_2.csv\", index=False)"
   ]
  },
  {
   "cell_type": "code",
   "execution_count": 271,
   "metadata": {},
   "outputs": [],
   "source": [
    "company_list_dependent_data_1 = pd.read_csv(\"/Users/gnbhavithran/Python_github/savitha/not_useful_companies_with_dependent_value_missibg.csv\", header=None)"
   ]
  },
  {
   "cell_type": "code",
   "execution_count": 272,
   "metadata": {},
   "outputs": [],
   "source": [
    "with open('company_names_independent.pkl', 'rb') as f:\n",
    "  wasted_company = pickle.load(f)"
   ]
  },
  {
   "cell_type": "code",
   "execution_count": 273,
   "metadata": {},
   "outputs": [
    {
     "data": {
      "text/plain": [
       "71"
      ]
     },
     "execution_count": 273,
     "metadata": {},
     "output_type": "execute_result"
    }
   ],
   "source": [
    "len(wasted_company)"
   ]
  },
  {
   "cell_type": "code",
   "execution_count": 275,
   "metadata": {},
   "outputs": [],
   "source": [
    "A = pd.read_csv('BS_CUR_LIAB.csv')\n",
    "A = pd.DataFrame(A) \n",
    "A = A['0'].tolist()"
   ]
  },
  {
   "cell_type": "code",
   "execution_count": 276,
   "metadata": {},
   "outputs": [],
   "source": [
    "missing_variable = ['BS_TOTAL_LIABILITIES', 'NON_CUR_LIAB', 'BS_TOT_ASSET', 'BS_TOT_NON_CUR_ASSET']"
   ]
  },
  {
   "cell_type": "code",
   "execution_count": 278,
   "metadata": {},
   "outputs": [],
   "source": [
    "df_copy1 = pd.read_csv(\"/Users/gnbhavithran/Python_github/savitha/panel_data_predicting_esg_data_independent_filled_2.csv\")"
   ]
  },
  {
   "cell_type": "code",
   "execution_count": 279,
   "metadata": {},
   "outputs": [],
   "source": [
    "import statsmodels.api as sm\n",
    "import matplotlib.pyplot as plt\n",
    "from sklearn.linear_model import LinearRegression\n",
    "\n",
    "for company in wasted_company:\n",
    "  df_copy_company = df_copy1[df_copy1['Company Name'] == company]\n",
    "  for variables in missing_variable:\n",
    "    variable_col = df_copy_company[variables]\n",
    "    variable_col_1 = variable_col.dropna()\n",
    "    if len(variable_col_1) <= 1 or len(variable_col_1) == 21:\n",
    "      continue\n",
    "    first_non_nan_index = variable_col.first_valid_index()\n",
    "    first_non_nan_index = variable_col.index.get_loc(first_non_nan_index)\n",
    "    \n",
    "    last_non_nan_index = variable_col.last_valid_index()\n",
    "    last_non_nan_index = variable_col.index.get_loc(last_non_nan_index)\n",
    "    nan_indices = np.where(np.isnan(variable_col.values))[0]\n",
    "\n",
    "    decom = sm.tsa.seasonal_decompose(variable_col_1, model='additive', period=1)\n",
    "    trend_component = decom.trend\n",
    "\n",
    "    # Assuming you have a time index for your data\n",
    "    X = range(len(trend_component))\n",
    "    X = sm.add_constant(X)  # Add a constant for the intercept\n",
    "    y = trend_component\n",
    "\n",
    "    # Fit a linear regression model\n",
    "    model = LinearRegression()\n",
    "    model.fit(X, y)\n",
    "\n",
    "    # Predict the remaining values in the trend\\\n",
    "    nan_indices_1 = nan_indices.copy()\n",
    "    for i in range(len(nan_indices)):\n",
    "      if nan_indices[i] < first_non_nan_index:\n",
    "        nan_indices_1[i] = nan_indices[i] - first_non_nan_index \n",
    "      else:\n",
    "        nan_indices_1[i] = nan_indices[i] - last_non_nan_index\n",
    "    \n",
    "    if len(nan_indices_1) == 1:\n",
    "      predicted_trend = model.predict([np.append(1, nan_indices_1)])\n",
    "    else:\n",
    "      previous_X = sm.add_constant(nan_indices_1)\n",
    "      predicted_trend = model.predict(previous_X)\n",
    "\n",
    "    predicted_trend = dict(zip(nan_indices, predicted_trend))\n",
    "\n",
    "    variable_col2 = df_copy_company[variables].tolist()\n",
    "\n",
    "    K = [predicted_trend[j] if j in nan_indices else variable_col2[j] for j in range(len(variable_col2))]\n",
    "\n",
    "    K = np.round(K, 4)\n",
    "    df_copy1.loc[df_copy['Company Name'] == company, variables] = K\n"
   ]
  },
  {
   "cell_type": "code",
   "execution_count": 280,
   "metadata": {},
   "outputs": [],
   "source": [
    "df_copy1.to_csv(\"/Users/gnbhavithran/Python_github/savitha/panel_data_predicting_esg_data_independent_and_dependent_filled_2.csv\", index=False)"
   ]
  },
  {
   "cell_type": "code",
   "execution_count": 281,
   "metadata": {},
   "outputs": [
    {
     "name": "stdout",
     "output_type": "stream",
     "text": [
      "{'360ONE': ['ALTMAN_Z_SCORE', 'BS_CUR_ASSET_REPORT', 'BS_CUR_LIAB'], 'ABCAP': ['ALTMAN_Z_SCORE', 'BS_CUR_ASSET_REPORT', 'BS_CUR_LIAB'], 'AUBANK': ['ALTMAN_Z_SCORE', 'BS_CUR_ASSET_REPORT'], 'AXSB': ['ALTMAN_Z_SCORE', 'BS_CUR_ASSET_REPORT', 'BS_CUR_LIAB'], 'BAF': ['ALTMAN_Z_SCORE', 'BS_CUR_ASSET_REPORT', 'BS_CUR_LIAB'], 'BANDHAN': ['BS_CUR_ASSET_REPORT', 'BS_CUR_LIAB'], 'BJFIN': ['ALTMAN_Z_SCORE', 'BS_CUR_ASSET_REPORT', 'BS_CUR_LIAB'], 'BJHI': ['ALTMAN_Z_SCORE', 'BS_CUR_ASSET_REPORT', 'BS_CUR_LIAB'], 'BOB': ['ALTMAN_Z_SCORE', 'BS_CUR_ASSET_REPORT', 'BS_CUR_LIAB'], 'BOI': ['ALTMAN_Z_SCORE', 'BS_CUR_ASSET_REPORT', 'BS_CUR_LIAB'], 'BOMH': ['ALTMAN_Z_SCORE', 'BS_CUR_ASSET_REPORT', 'BS_CUR_LIAB'], 'CANF': ['ALTMAN_Z_SCORE', 'BS_CUR_ASSET_REPORT', 'BS_CUR_LIAB'], 'CBK': ['ALTMAN_Z_SCORE', 'BS_CUR_ASSET_REPORT', 'BS_CUR_LIAB'], 'CBOI': ['BS_CUR_ASSET_REPORT', 'BS_CUR_LIAB'], 'CIFC': ['ALTMAN_Z_SCORE', 'BS_CUR_ASSET_REPORT', 'BS_CUR_LIAB'], 'CUBK': ['ALTMAN_Z_SCORE', 'BS_CUR_ASSET_REPORT', 'BS_CUR_LIAB'], 'DCBB': ['ALTMAN_Z_SCORE', 'BS_CUR_ASSET_REPORT', 'BS_CUR_LIAB'], 'EDEL': ['ALTMAN_Z_SCORE', 'BS_CUR_ASSET_REPORT', 'BS_CUR_LIAB'], 'FB': ['ALTMAN_Z_SCORE', 'BS_CUR_ASSET_REPORT', 'BS_CUR_LIAB'], 'GICRE': ['ALTMAN_Z_SCORE', 'BS_CUR_ASSET_REPORT'], 'HDFC': ['ALTMAN_Z_SCORE', 'BS_CUR_ASSET_REPORT'], 'HDFCAMC': ['ALTMAN_Z_SCORE', 'BS_CUR_ASSET_REPORT', 'BS_CUR_LIAB'], 'HDFCB': ['ALTMAN_Z_SCORE', 'BS_CUR_ASSET_REPORT', 'BS_CUR_LIAB'], 'HDFCLIFE': ['ALTMAN_Z_SCORE', 'BS_CUR_ASSET_REPORT', 'BS_CUR_LIAB'], 'ICICIBC': ['ALTMAN_Z_SCORE', 'BS_CUR_ASSET_REPORT', 'BS_CUR_LIAB'], 'ICICIGI': ['ALTMAN_Z_SCORE', 'BS_CUR_ASSET_REPORT'], 'IDBI': ['ALTMAN_Z_SCORE', 'BS_CUR_ASSET_REPORT', 'BS_CUR_LIAB'], 'IDFC': ['ALTMAN_Z_SCORE', 'BS_CUR_ASSET_REPORT', 'BS_CUR_LIAB'], 'IDFCFB': ['ALTMAN_Z_SCORE', 'BS_CUR_ASSET_REPORT', 'BS_CUR_LIAB'], 'IFCI': ['ALTMAN_Z_SCORE', 'BS_CUR_ASSET_REPORT', 'BS_CUR_LIAB'], 'IHFL': ['ALTMAN_Z_SCORE', 'BS_CUR_ASSET_REPORT', 'BS_CUR_LIAB'], 'IIB': ['ALTMAN_Z_SCORE', 'BS_CUR_ASSET_REPORT', 'BS_CUR_LIAB'], 'IIFL': ['ALTMAN_Z_SCORE', 'BS_CUR_ASSET_REPORT', 'BS_CUR_LIAB'], 'INBK': ['ALTMAN_Z_SCORE', 'BS_CUR_ASSET_REPORT', 'BS_CUR_LIAB'], 'IOB': ['ALTMAN_Z_SCORE', 'BS_CUR_ASSET_REPORT', 'BS_CUR_LIAB'], 'IPRU': ['ALTMAN_Z_SCORE', 'BS_CUR_ASSET_REPORT'], 'IRFC': ['ALTMAN_Z_SCORE', 'BS_CUR_ASSET_REPORT', 'BS_CUR_LIAB'], 'JKBK': ['ALTMAN_Z_SCORE', 'BS_CUR_ASSET_REPORT', 'BS_CUR_LIAB'], 'JM': ['ALTMAN_Z_SCORE', 'BS_CUR_ASSET_REPORT', 'BS_CUR_LIAB'], 'KBL': ['ALTMAN_Z_SCORE', 'BS_CUR_ASSET_REPORT', 'BS_CUR_LIAB'], 'KMB': ['ALTMAN_Z_SCORE', 'BS_CUR_ASSET_REPORT', 'BS_CUR_LIAB'], 'KVB': ['ALTMAN_Z_SCORE', 'BS_CUR_ASSET_REPORT', 'BS_CUR_LIAB'], 'LICHF': ['ALTMAN_Z_SCORE', 'BS_CUR_ASSET_REPORT', 'BS_CUR_LIAB'], 'LTFH': ['ALTMAN_Z_SCORE', 'BS_CUR_ASSET_REPORT', 'BS_CUR_LIAB'], 'MGFL': ['ALTMAN_Z_SCORE', 'BS_CUR_ASSET_REPORT', 'BS_CUR_LIAB'], 'MMFS': ['ALTMAN_Z_SCORE', 'BS_CUR_ASSET_REPORT', 'BS_CUR_LIAB'], 'MOFS': ['ALTMAN_Z_SCORE', 'BS_CUR_ASSET_REPORT', 'BS_CUR_LIAB'], 'MUTH': ['ALTMAN_Z_SCORE', 'BS_CUR_ASSET_REPORT', 'BS_CUR_LIAB'], 'NAM': ['ALTMAN_Z_SCORE', 'BS_CUR_ASSET_REPORT', 'BS_CUR_LIAB'], 'NIACL': ['ALTMAN_Z_SCORE', 'BS_CUR_ASSET_REPORT', 'BS_CUR_LIAB'], 'PAISALO': ['ALTMAN_Z_SCORE', 'BS_CUR_ASSET_REPORT', 'BS_CUR_LIAB'], 'PJSB': ['ALTMAN_Z_SCORE', 'BS_CUR_ASSET_REPORT', 'BS_CUR_LIAB'], 'PNB': ['ALTMAN_Z_SCORE', 'BS_CUR_ASSET_REPORT', 'BS_CUR_LIAB'], 'POONAWAL': ['ALTMAN_Z_SCORE', 'BS_CUR_ASSET_REPORT', 'BS_CUR_LIAB'], 'POWF': ['ALTMAN_Z_SCORE'], 'PTCIF': ['ALTMAN_Z_SCORE', 'BS_CUR_ASSET_REPORT', 'BS_CUR_LIAB'], 'RECL': ['ALTMAN_Z_SCORE', 'BS_CUR_ASSET_REPORT', 'BS_CUR_LIAB'], 'RELG': ['ALTMAN_Z_SCORE', 'BS_CUR_ASSET_REPORT', 'BS_CUR_LIAB'], 'REPCO': ['ALTMAN_Z_SCORE'], 'SBICARD': ['BS_CUR_ASSET_REPORT', 'BS_CUR_LIAB'], 'SBILIFE': ['ALTMAN_Z_SCORE', 'BS_CUR_ASSET_REPORT'], 'SBIN': ['ALTMAN_Z_SCORE', 'BS_CUR_ASSET_REPORT', 'BS_CUR_LIAB'], 'SHFL': ['ALTMAN_Z_SCORE', 'BS_CUR_ASSET_REPORT', 'BS_CUR_LIAB'], 'SIB': ['ALTMAN_Z_SCORE', 'BS_CUR_ASSET_REPORT', 'BS_CUR_LIAB'], 'SJET': ['RETURN_COM_EQY', 'FNCL_LVRG', 'PX_TO_BOOK_RATIO', 'TOT_DEBT_TO_COM_EQY'], 'SUF': ['ALTMAN_Z_SCORE', 'BS_CUR_ASSET_REPORT', 'BS_CUR_LIAB'], 'SWH': ['ALTMAN_Z_SCORE', 'BS_CUR_ASSET_REPORT', 'BS_CUR_LIAB'], 'TICL': ['ALTMAN_Z_SCORE', 'BS_CUR_ASSET_REPORT', 'BS_CUR_LIAB'], 'UCO': ['ALTMAN_Z_SCORE', 'BS_CUR_ASSET_REPORT', 'BS_CUR_LIAB'], 'UNBK': ['BS_CUR_ASSET_REPORT', 'BS_CUR_LIAB'], 'YES': ['ALTMAN_Z_SCORE', 'BS_CUR_ASSET_REPORT', 'BS_CUR_LIAB']}\n"
     ]
    }
   ],
   "source": [
    "print(wasted_company)"
   ]
  },
  {
   "cell_type": "code",
   "execution_count": 211,
   "metadata": {},
   "outputs": [],
   "source": [
    "B = []\n",
    "C = []\n",
    "for i in A:\n",
    "  df_copy_company = df[df['Company Name'] == i]\n",
    "  for variables in missing_variable:\n",
    "    j = 0\n",
    "    variable_col = df_copy_company[variables]\n",
    "    variable_col_1 = variable_col.dropna()\n",
    "    if len(variable_col_1) == 0:\n",
    "      B.append(i)\n",
    "      C.append(variables)\n",
    "      continue"
   ]
  },
  {
   "cell_type": "code",
   "execution_count": 188,
   "metadata": {},
   "outputs": [],
   "source": [
    "B = pd.DataFrame(B)"
   ]
  },
  {
   "cell_type": "code",
   "execution_count": 189,
   "metadata": {},
   "outputs": [],
   "source": [
    "B.to_csv(\"Non_cur_liab_missing_companies.csv\", index=False)"
   ]
  },
  {
   "cell_type": "code",
   "execution_count": null,
   "metadata": {},
   "outputs": [],
   "source": []
  }
 ],
 "metadata": {
  "kernelspec": {
   "display_name": "VT_codes",
   "language": "python",
   "name": "python3"
  },
  "language_info": {
   "codemirror_mode": {
    "name": "ipython",
    "version": 3
   },
   "file_extension": ".py",
   "mimetype": "text/x-python",
   "name": "python",
   "nbconvert_exporter": "python",
   "pygments_lexer": "ipython3",
   "version": "3.11.4"
  },
  "orig_nbformat": 4
 },
 "nbformat": 4,
 "nbformat_minor": 2
}
