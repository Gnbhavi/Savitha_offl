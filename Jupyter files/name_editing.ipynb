{
 "cells": [
  {
   "cell_type": "code",
   "execution_count": 72,
   "metadata": {},
   "outputs": [],
   "source": [
    "import pandas as pd\n",
    "import numpy as np"
   ]
  },
  {
   "cell_type": "code",
   "execution_count": 73,
   "metadata": {},
   "outputs": [],
   "source": [
    "company_name = [\"RIL\",\"TCS\",\"HDFCB\",\"HUVR\",\"HDFC\",\"ITC\",\"KMB\",\"ICICIBC\",\"INFO\",\"SBIN\",\"BAF\",\"MSIL\",\"AXSB\",\"LT\",\"BHARTI\",\"ONGC\",\"APNT\",\"HCLT\",\"WPRO\",\"NEST\",\"IOCL\",\"BJFIN\",\"COAL\",\"NTPC\",\"UTCEM\",\"TTAN\",\"BPCL\",\"SUNP\",\"PWGR\",\"BJAUT\",\"IIB\",\"ADSEZ\",\"BRIT\",\"MM\",\"TECHM\",\"GAIL\",\"EIM\",\"TTMT\",\"VEDL\",\"JSTL\",\"HMCL\",\"GRASIM\",\"DRRD\",\"UPLL\",\"TATA\",\"HNDL\",\"CIPLA\",\"BHIN\",\"Z\",\"YES\",]"
   ]
  },
  {
   "cell_type": "code",
   "execution_count": 74,
   "metadata": {},
   "outputs": [],
   "source": [
    "unharmed = pd.read_csv(\"/Users/gnbhavithran/Downloads/ESG. 2023 - Copy.csv\", header = None)\n",
    "unharmed = pd.DataFrame(unharmed)"
   ]
  },
  {
   "cell_type": "code",
   "execution_count": 75,
   "metadata": {},
   "outputs": [],
   "source": [
    "only_data = unharmed[3:]"
   ]
  },
  {
   "cell_type": "code",
   "execution_count": 76,
   "metadata": {},
   "outputs": [
    {
     "data": {
      "text/plain": [
       "(18, 1351)"
      ]
     },
     "execution_count": 76,
     "metadata": {},
     "output_type": "execute_result"
    }
   ],
   "source": [
    "only_data.shape"
   ]
  },
  {
   "cell_type": "code",
   "execution_count": 77,
   "metadata": {},
   "outputs": [
    {
     "data": {
      "text/html": [
       "<div>\n",
       "<style scoped>\n",
       "    .dataframe tbody tr th:only-of-type {\n",
       "        vertical-align: middle;\n",
       "    }\n",
       "\n",
       "    .dataframe tbody tr th {\n",
       "        vertical-align: top;\n",
       "    }\n",
       "\n",
       "    .dataframe thead th {\n",
       "        text-align: right;\n",
       "    }\n",
       "</style>\n",
       "<table border=\"1\" class=\"dataframe\">\n",
       "  <thead>\n",
       "    <tr style=\"text-align: right;\">\n",
       "      <th></th>\n",
       "      <th>0</th>\n",
       "      <th>1</th>\n",
       "      <th>2</th>\n",
       "      <th>3</th>\n",
       "      <th>4</th>\n",
       "      <th>5</th>\n",
       "      <th>6</th>\n",
       "      <th>7</th>\n",
       "      <th>8</th>\n",
       "      <th>9</th>\n",
       "      <th>...</th>\n",
       "      <th>1341</th>\n",
       "      <th>1342</th>\n",
       "      <th>1343</th>\n",
       "      <th>1344</th>\n",
       "      <th>1345</th>\n",
       "      <th>1346</th>\n",
       "      <th>1347</th>\n",
       "      <th>1348</th>\n",
       "      <th>1349</th>\n",
       "      <th>1350</th>\n",
       "    </tr>\n",
       "  </thead>\n",
       "  <tbody>\n",
       "    <tr>\n",
       "      <th>0</th>\n",
       "      <td>NaN</td>\n",
       "      <td>1</td>\n",
       "      <td>NaN</td>\n",
       "      <td>NaN</td>\n",
       "      <td>NaN</td>\n",
       "      <td>NaN</td>\n",
       "      <td>NaN</td>\n",
       "      <td>NaN</td>\n",
       "      <td>NaN</td>\n",
       "      <td>NaN</td>\n",
       "      <td>...</td>\n",
       "      <td>NaN</td>\n",
       "      <td>NaN</td>\n",
       "      <td>NaN</td>\n",
       "      <td>NaN</td>\n",
       "      <td>NaN</td>\n",
       "      <td>NaN</td>\n",
       "      <td>NaN</td>\n",
       "      <td>NaN</td>\n",
       "      <td>NaN</td>\n",
       "      <td>NaN</td>\n",
       "    </tr>\n",
       "    <tr>\n",
       "      <th>1</th>\n",
       "      <td>NaN</td>\n",
       "      <td>RIL IN Equity</td>\n",
       "      <td>NaN</td>\n",
       "      <td>NaN</td>\n",
       "      <td>NaN</td>\n",
       "      <td>NaN</td>\n",
       "      <td>NaN</td>\n",
       "      <td>NaN</td>\n",
       "      <td>NaN</td>\n",
       "      <td>NaN</td>\n",
       "      <td>...</td>\n",
       "      <td>NaN</td>\n",
       "      <td>NaN</td>\n",
       "      <td>NaN</td>\n",
       "      <td>NaN</td>\n",
       "      <td>NaN</td>\n",
       "      <td>NaN</td>\n",
       "      <td>NaN</td>\n",
       "      <td>NaN</td>\n",
       "      <td>NaN</td>\n",
       "      <td>NaN</td>\n",
       "    </tr>\n",
       "    <tr>\n",
       "      <th>2</th>\n",
       "      <td>year</td>\n",
       "      <td>RIL_EDS</td>\n",
       "      <td>RIL_SDS</td>\n",
       "      <td>RIL_GDS</td>\n",
       "      <td>RIL_ESGDS</td>\n",
       "      <td>RIL_ALTMAN_Z_S</td>\n",
       "      <td>RIL_RTN_COM_EQY</td>\n",
       "      <td>RIL_PE_RATIO</td>\n",
       "      <td>RIL_TOBIN_Q_RATIO</td>\n",
       "      <td>RIL_NO_DIR_ON_BRD</td>\n",
       "      <td>...</td>\n",
       "      <td>SHAREHOLDER_APPROVED_POISON_PILL</td>\n",
       "      <td>DUAL_CLASS_UNEQUAL_VTG_RTS</td>\n",
       "      <td>CLASSIFIED_BOARD_SYSTEM</td>\n",
       "      <td>PCT_WOMEN_ON_BOARD</td>\n",
       "      <td>BOARD_DURATION</td>\n",
       "      <td>RETURN_ON_ASSET</td>\n",
       "      <td>CAPEX_TO_TOTAL_ASSETS</td>\n",
       "      <td>FUND_TOTAL_ASSETS</td>\n",
       "      <td>TOT_DEBT_TO_TOT_ASSET</td>\n",
       "      <td>IS_RD_EXPEND</td>\n",
       "    </tr>\n",
       "    <tr>\n",
       "      <th>3</th>\n",
       "      <td>31-03-2006</td>\n",
       "      <td>35.66</td>\n",
       "      <td>28.07</td>\n",
       "      <td>46.43</td>\n",
       "      <td>36.36</td>\n",
       "      <td>3.26</td>\n",
       "      <td>20.40</td>\n",
       "      <td>11.67</td>\n",
       "      <td>1.62</td>\n",
       "      <td>NaN</td>\n",
       "      <td>...</td>\n",
       "      <td>NaN</td>\n",
       "      <td>NaN</td>\n",
       "      <td>NaN</td>\n",
       "      <td>NaN</td>\n",
       "      <td>NaN</td>\n",
       "      <td>NaN</td>\n",
       "      <td>NaN</td>\n",
       "      <td>NaN</td>\n",
       "      <td>NaN</td>\n",
       "      <td>NaN</td>\n",
       "    </tr>\n",
       "    <tr>\n",
       "      <th>4</th>\n",
       "      <td>31-03-2007</td>\n",
       "      <td>47.29</td>\n",
       "      <td>38.60</td>\n",
       "      <td>62.50</td>\n",
       "      <td>48.76</td>\n",
       "      <td>3.24</td>\n",
       "      <td>20.25</td>\n",
       "      <td>16.50</td>\n",
       "      <td>1.93</td>\n",
       "      <td>NaN</td>\n",
       "      <td>...</td>\n",
       "      <td>NaN</td>\n",
       "      <td>NaN</td>\n",
       "      <td>NaN</td>\n",
       "      <td>NaN</td>\n",
       "      <td>NaN</td>\n",
       "      <td>NaN</td>\n",
       "      <td>NaN</td>\n",
       "      <td>NaN</td>\n",
       "      <td>NaN</td>\n",
       "      <td>NaN</td>\n",
       "    </tr>\n",
       "  </tbody>\n",
       "</table>\n",
       "<p>5 rows × 1351 columns</p>\n",
       "</div>"
      ],
      "text/plain": [
       "         0              1        2        3          4               5     \\\n",
       "0         NaN              1      NaN      NaN        NaN             NaN   \n",
       "1         NaN  RIL IN Equity      NaN      NaN        NaN             NaN   \n",
       "2        year        RIL_EDS  RIL_SDS  RIL_GDS  RIL_ESGDS  RIL_ALTMAN_Z_S   \n",
       "3  31-03-2006          35.66    28.07    46.43      36.36            3.26   \n",
       "4  31-03-2007          47.29    38.60    62.50      48.76            3.24   \n",
       "\n",
       "              6             7                  8                  9     ...  \\\n",
       "0              NaN           NaN                NaN                NaN  ...   \n",
       "1              NaN           NaN                NaN                NaN  ...   \n",
       "2  RIL_RTN_COM_EQY  RIL_PE_RATIO  RIL_TOBIN_Q_RATIO  RIL_NO_DIR_ON_BRD  ...   \n",
       "3            20.40         11.67               1.62                NaN  ...   \n",
       "4            20.25         16.50               1.93                NaN  ...   \n",
       "\n",
       "                               1341                        1342  \\\n",
       "0                               NaN                         NaN   \n",
       "1                               NaN                         NaN   \n",
       "2  SHAREHOLDER_APPROVED_POISON_PILL  DUAL_CLASS_UNEQUAL_VTG_RTS   \n",
       "3                               NaN                         NaN   \n",
       "4                               NaN                         NaN   \n",
       "\n",
       "                      1343                1344            1345  \\\n",
       "0                      NaN                 NaN             NaN   \n",
       "1                      NaN                 NaN             NaN   \n",
       "2  CLASSIFIED_BOARD_SYSTEM  PCT_WOMEN_ON_BOARD  BOARD_DURATION   \n",
       "3                      NaN                 NaN             NaN   \n",
       "4                      NaN                 NaN             NaN   \n",
       "\n",
       "              1346                   1347               1348  \\\n",
       "0              NaN                    NaN                NaN   \n",
       "1              NaN                    NaN                NaN   \n",
       "2  RETURN_ON_ASSET  CAPEX_TO_TOTAL_ASSETS  FUND_TOTAL_ASSETS   \n",
       "3              NaN                    NaN                NaN   \n",
       "4              NaN                    NaN                NaN   \n",
       "\n",
       "                    1349          1350  \n",
       "0                    NaN           NaN  \n",
       "1                    NaN           NaN  \n",
       "2  TOT_DEBT_TO_TOT_ASSET  IS_RD_EXPEND  \n",
       "3                    NaN           NaN  \n",
       "4                    NaN           NaN  \n",
       "\n",
       "[5 rows x 1351 columns]"
      ]
     },
     "execution_count": 77,
     "metadata": {},
     "output_type": "execute_result"
    }
   ],
   "source": [
    "unharmed.head()"
   ]
  },
  {
   "cell_type": "code",
   "execution_count": 78,
   "metadata": {},
   "outputs": [],
   "source": [
    "unharmed_lis = list(unharmed)"
   ]
  },
  {
   "cell_type": "code",
   "execution_count": 79,
   "metadata": {},
   "outputs": [
    {
     "data": {
      "text/plain": [
       "1351"
      ]
     },
     "execution_count": 79,
     "metadata": {},
     "output_type": "execute_result"
    }
   ],
   "source": [
    "len(unharmed_lis)"
   ]
  },
  {
   "cell_type": "code",
   "execution_count": 80,
   "metadata": {},
   "outputs": [],
   "source": [
    "title = unharmed.iloc[2]"
   ]
  },
  {
   "cell_type": "code",
   "execution_count": 81,
   "metadata": {},
   "outputs": [
    {
     "data": {
      "text/plain": [
       "'IS_RD_EXPEND'"
      ]
     },
     "execution_count": 81,
     "metadata": {},
     "output_type": "execute_result"
    }
   ],
   "source": [
    "starting_point = 55\n",
    "title[81]"
   ]
  },
  {
   "cell_type": "code",
   "execution_count": 82,
   "metadata": {},
   "outputs": [],
   "source": [
    "for i in range(2 , 50):\n",
    "    for j in range(27):\n",
    "        title[starting_point] = company_name[i] + '_' +  title[starting_point]\n",
    "        starting_point += 1"
   ]
  },
  {
   "cell_type": "code",
   "execution_count": 85,
   "metadata": {},
   "outputs": [
    {
     "data": {
      "text/plain": [
       "'HDFC_ENVIRON_DISCLOSURE_SCORE'"
      ]
     },
     "execution_count": 85,
     "metadata": {},
     "output_type": "execute_result"
    }
   ],
   "source": [
    "title[109]"
   ]
  },
  {
   "cell_type": "code",
   "execution_count": 86,
   "metadata": {},
   "outputs": [],
   "source": [
    "for_tcs_start = 40\n",
    "end_tcs = 55"
   ]
  },
  {
   "cell_type": "code",
   "execution_count": 87,
   "metadata": {},
   "outputs": [
    {
     "data": {
      "text/plain": [
       "'PCT_INDEPENDENT_DIRECTORS'"
      ]
     },
     "execution_count": 87,
     "metadata": {},
     "output_type": "execute_result"
    }
   ],
   "source": [
    "title[40]"
   ]
  },
  {
   "cell_type": "code",
   "execution_count": 88,
   "metadata": {},
   "outputs": [],
   "source": [
    "for k in range(40, 55):\n",
    "    title[k] = company_name[1] + \"_\" + title[k]"
   ]
  },
  {
   "cell_type": "code",
   "execution_count": 91,
   "metadata": {},
   "outputs": [
    {
     "data": {
      "text/plain": [
       "'TCS_IS_RD_EXPEND'"
      ]
     },
     "execution_count": 91,
     "metadata": {},
     "output_type": "execute_result"
    }
   ],
   "source": [
    "title[54]"
   ]
  },
  {
   "cell_type": "code",
   "execution_count": 92,
   "metadata": {},
   "outputs": [
    {
     "data": {
      "text/plain": [
       "'year'"
      ]
     },
     "execution_count": 92,
     "metadata": {},
     "output_type": "execute_result"
    }
   ],
   "source": [
    "title[0]"
   ]
  },
  {
   "cell_type": "code",
   "execution_count": 93,
   "metadata": {},
   "outputs": [
    {
     "data": {
      "text/html": [
       "<div>\n",
       "<style scoped>\n",
       "    .dataframe tbody tr th:only-of-type {\n",
       "        vertical-align: middle;\n",
       "    }\n",
       "\n",
       "    .dataframe tbody tr th {\n",
       "        vertical-align: top;\n",
       "    }\n",
       "\n",
       "    .dataframe thead th {\n",
       "        text-align: right;\n",
       "    }\n",
       "</style>\n",
       "<table border=\"1\" class=\"dataframe\">\n",
       "  <thead>\n",
       "    <tr style=\"text-align: right;\">\n",
       "      <th></th>\n",
       "      <th>0</th>\n",
       "      <th>1</th>\n",
       "      <th>2</th>\n",
       "      <th>3</th>\n",
       "      <th>4</th>\n",
       "      <th>5</th>\n",
       "      <th>6</th>\n",
       "      <th>7</th>\n",
       "      <th>8</th>\n",
       "      <th>9</th>\n",
       "      <th>...</th>\n",
       "      <th>1341</th>\n",
       "      <th>1342</th>\n",
       "      <th>1343</th>\n",
       "      <th>1344</th>\n",
       "      <th>1345</th>\n",
       "      <th>1346</th>\n",
       "      <th>1347</th>\n",
       "      <th>1348</th>\n",
       "      <th>1349</th>\n",
       "      <th>1350</th>\n",
       "    </tr>\n",
       "  </thead>\n",
       "  <tbody>\n",
       "    <tr>\n",
       "      <th>3</th>\n",
       "      <td>31-03-2006</td>\n",
       "      <td>35.66</td>\n",
       "      <td>28.07</td>\n",
       "      <td>46.43</td>\n",
       "      <td>36.36</td>\n",
       "      <td>3.26</td>\n",
       "      <td>20.40</td>\n",
       "      <td>11.67</td>\n",
       "      <td>1.62</td>\n",
       "      <td>NaN</td>\n",
       "      <td>...</td>\n",
       "      <td>NaN</td>\n",
       "      <td>NaN</td>\n",
       "      <td>NaN</td>\n",
       "      <td>NaN</td>\n",
       "      <td>NaN</td>\n",
       "      <td>NaN</td>\n",
       "      <td>NaN</td>\n",
       "      <td>NaN</td>\n",
       "      <td>NaN</td>\n",
       "      <td>NaN</td>\n",
       "    </tr>\n",
       "    <tr>\n",
       "      <th>4</th>\n",
       "      <td>31-03-2007</td>\n",
       "      <td>47.29</td>\n",
       "      <td>38.60</td>\n",
       "      <td>62.50</td>\n",
       "      <td>48.76</td>\n",
       "      <td>3.24</td>\n",
       "      <td>20.25</td>\n",
       "      <td>16.50</td>\n",
       "      <td>1.93</td>\n",
       "      <td>NaN</td>\n",
       "      <td>...</td>\n",
       "      <td>NaN</td>\n",
       "      <td>NaN</td>\n",
       "      <td>NaN</td>\n",
       "      <td>NaN</td>\n",
       "      <td>NaN</td>\n",
       "      <td>NaN</td>\n",
       "      <td>NaN</td>\n",
       "      <td>NaN</td>\n",
       "      <td>NaN</td>\n",
       "      <td>NaN</td>\n",
       "    </tr>\n",
       "    <tr>\n",
       "      <th>5</th>\n",
       "      <td>31-03-2008</td>\n",
       "      <td>47.29</td>\n",
       "      <td>47.37</td>\n",
       "      <td>62.50</td>\n",
       "      <td>50.83</td>\n",
       "      <td>3.62</td>\n",
       "      <td>25.40</td>\n",
       "      <td>16.87</td>\n",
       "      <td>2.39</td>\n",
       "      <td>NaN</td>\n",
       "      <td>...</td>\n",
       "      <td>NaN</td>\n",
       "      <td>NaN</td>\n",
       "      <td>NaN</td>\n",
       "      <td>NaN</td>\n",
       "      <td>NaN</td>\n",
       "      <td>NaN</td>\n",
       "      <td>NaN</td>\n",
       "      <td>NaN</td>\n",
       "      <td>NaN</td>\n",
       "      <td>NaN</td>\n",
       "    </tr>\n",
       "    <tr>\n",
       "      <th>6</th>\n",
       "      <td>31-03-2009</td>\n",
       "      <td>47.29</td>\n",
       "      <td>47.37</td>\n",
       "      <td>73.21</td>\n",
       "      <td>53.31</td>\n",
       "      <td>2.14</td>\n",
       "      <td>14.48</td>\n",
       "      <td>14.09</td>\n",
       "      <td>1.36</td>\n",
       "      <td>NaN</td>\n",
       "      <td>...</td>\n",
       "      <td>NaN</td>\n",
       "      <td>NaN</td>\n",
       "      <td>NaN</td>\n",
       "      <td>NaN</td>\n",
       "      <td>NaN</td>\n",
       "      <td>NaN</td>\n",
       "      <td>NaN</td>\n",
       "      <td>NaN</td>\n",
       "      <td>11.2769</td>\n",
       "      <td>NaN</td>\n",
       "    </tr>\n",
       "    <tr>\n",
       "      <th>7</th>\n",
       "      <td>31-03-2010</td>\n",
       "      <td>47.29</td>\n",
       "      <td>47.37</td>\n",
       "      <td>67.86</td>\n",
       "      <td>52.07</td>\n",
       "      <td>3.04</td>\n",
       "      <td>18.69</td>\n",
       "      <td>13.05</td>\n",
       "      <td>1.69</td>\n",
       "      <td>NaN</td>\n",
       "      <td>...</td>\n",
       "      <td>NaN</td>\n",
       "      <td>NaN</td>\n",
       "      <td>NaN</td>\n",
       "      <td>12.5</td>\n",
       "      <td>NaN</td>\n",
       "      <td>1.6117</td>\n",
       "      <td>NaN</td>\n",
       "      <td>NaN</td>\n",
       "      <td>13.3941</td>\n",
       "      <td>NaN</td>\n",
       "    </tr>\n",
       "  </tbody>\n",
       "</table>\n",
       "<p>5 rows × 1351 columns</p>\n",
       "</div>"
      ],
      "text/plain": [
       "         0      1      2      3      4     5      6      7     8    9     ...  \\\n",
       "3  31-03-2006  35.66  28.07  46.43  36.36  3.26  20.40  11.67  1.62  NaN  ...   \n",
       "4  31-03-2007  47.29  38.60  62.50  48.76  3.24  20.25  16.50  1.93  NaN  ...   \n",
       "5  31-03-2008  47.29  47.37  62.50  50.83  3.62  25.40  16.87  2.39  NaN  ...   \n",
       "6  31-03-2009  47.29  47.37  73.21  53.31  2.14  14.48  14.09  1.36  NaN  ...   \n",
       "7  31-03-2010  47.29  47.37  67.86  52.07  3.04  18.69  13.05  1.69  NaN  ...   \n",
       "\n",
       "  1341 1342 1343  1344 1345    1346 1347 1348     1349 1350  \n",
       "3  NaN  NaN  NaN   NaN  NaN     NaN  NaN  NaN      NaN  NaN  \n",
       "4  NaN  NaN  NaN   NaN  NaN     NaN  NaN  NaN      NaN  NaN  \n",
       "5  NaN  NaN  NaN   NaN  NaN     NaN  NaN  NaN      NaN  NaN  \n",
       "6  NaN  NaN  NaN   NaN  NaN     NaN  NaN  NaN  11.2769  NaN  \n",
       "7  NaN  NaN  NaN  12.5  NaN  1.6117  NaN  NaN  13.3941  NaN  \n",
       "\n",
       "[5 rows x 1351 columns]"
      ]
     },
     "execution_count": 93,
     "metadata": {},
     "output_type": "execute_result"
    }
   ],
   "source": [
    "only_data.head()"
   ]
  },
  {
   "cell_type": "code",
   "execution_count": 107,
   "metadata": {},
   "outputs": [],
   "source": [
    "only_data_1 = only_data.values. tolist()"
   ]
  },
  {
   "cell_type": "code",
   "execution_count": 108,
   "metadata": {},
   "outputs": [
    {
     "data": {
      "text/plain": [
       "1351"
      ]
     },
     "execution_count": 108,
     "metadata": {},
     "output_type": "execute_result"
    }
   ],
   "source": [
    "len(only_data_1[0])"
   ]
  },
  {
   "cell_type": "code",
   "execution_count": 109,
   "metadata": {},
   "outputs": [],
   "source": [
    "only_data_1 = pd.DataFrame(only_data_1, columns=title)"
   ]
  },
  {
   "cell_type": "code",
   "execution_count": 110,
   "metadata": {},
   "outputs": [
    {
     "data": {
      "text/html": [
       "<div>\n",
       "<style scoped>\n",
       "    .dataframe tbody tr th:only-of-type {\n",
       "        vertical-align: middle;\n",
       "    }\n",
       "\n",
       "    .dataframe tbody tr th {\n",
       "        vertical-align: top;\n",
       "    }\n",
       "\n",
       "    .dataframe thead th {\n",
       "        text-align: right;\n",
       "    }\n",
       "</style>\n",
       "<table border=\"1\" class=\"dataframe\">\n",
       "  <thead>\n",
       "    <tr style=\"text-align: right;\">\n",
       "      <th>2</th>\n",
       "      <th>year</th>\n",
       "      <th>RIL_EDS</th>\n",
       "      <th>RIL_SDS</th>\n",
       "      <th>RIL_GDS</th>\n",
       "      <th>RIL_ESGDS</th>\n",
       "      <th>RIL_ALTMAN_Z_S</th>\n",
       "      <th>RIL_RTN_COM_EQY</th>\n",
       "      <th>RIL_PE_RATIO</th>\n",
       "      <th>RIL_TOBIN_Q_RATIO</th>\n",
       "      <th>RIL_NO_DIR_ON_BRD</th>\n",
       "      <th>...</th>\n",
       "      <th>YES_SHAREHOLDER_APPROVED_POISON_PILL</th>\n",
       "      <th>YES_DUAL_CLASS_UNEQUAL_VTG_RTS</th>\n",
       "      <th>YES_CLASSIFIED_BOARD_SYSTEM</th>\n",
       "      <th>YES_PCT_WOMEN_ON_BOARD</th>\n",
       "      <th>YES_BOARD_DURATION</th>\n",
       "      <th>YES_RETURN_ON_ASSET</th>\n",
       "      <th>YES_CAPEX_TO_TOTAL_ASSETS</th>\n",
       "      <th>YES_FUND_TOTAL_ASSETS</th>\n",
       "      <th>YES_TOT_DEBT_TO_TOT_ASSET</th>\n",
       "      <th>YES_IS_RD_EXPEND</th>\n",
       "    </tr>\n",
       "  </thead>\n",
       "  <tbody>\n",
       "    <tr>\n",
       "      <th>0</th>\n",
       "      <td>31-03-2006</td>\n",
       "      <td>35.66</td>\n",
       "      <td>28.07</td>\n",
       "      <td>46.43</td>\n",
       "      <td>36.36</td>\n",
       "      <td>3.26</td>\n",
       "      <td>20.40</td>\n",
       "      <td>11.67</td>\n",
       "      <td>1.62</td>\n",
       "      <td>NaN</td>\n",
       "      <td>...</td>\n",
       "      <td>NaN</td>\n",
       "      <td>NaN</td>\n",
       "      <td>NaN</td>\n",
       "      <td>NaN</td>\n",
       "      <td>NaN</td>\n",
       "      <td>NaN</td>\n",
       "      <td>NaN</td>\n",
       "      <td>NaN</td>\n",
       "      <td>NaN</td>\n",
       "      <td>NaN</td>\n",
       "    </tr>\n",
       "    <tr>\n",
       "      <th>1</th>\n",
       "      <td>31-03-2007</td>\n",
       "      <td>47.29</td>\n",
       "      <td>38.60</td>\n",
       "      <td>62.50</td>\n",
       "      <td>48.76</td>\n",
       "      <td>3.24</td>\n",
       "      <td>20.25</td>\n",
       "      <td>16.50</td>\n",
       "      <td>1.93</td>\n",
       "      <td>NaN</td>\n",
       "      <td>...</td>\n",
       "      <td>NaN</td>\n",
       "      <td>NaN</td>\n",
       "      <td>NaN</td>\n",
       "      <td>NaN</td>\n",
       "      <td>NaN</td>\n",
       "      <td>NaN</td>\n",
       "      <td>NaN</td>\n",
       "      <td>NaN</td>\n",
       "      <td>NaN</td>\n",
       "      <td>NaN</td>\n",
       "    </tr>\n",
       "    <tr>\n",
       "      <th>2</th>\n",
       "      <td>31-03-2008</td>\n",
       "      <td>47.29</td>\n",
       "      <td>47.37</td>\n",
       "      <td>62.50</td>\n",
       "      <td>50.83</td>\n",
       "      <td>3.62</td>\n",
       "      <td>25.40</td>\n",
       "      <td>16.87</td>\n",
       "      <td>2.39</td>\n",
       "      <td>NaN</td>\n",
       "      <td>...</td>\n",
       "      <td>NaN</td>\n",
       "      <td>NaN</td>\n",
       "      <td>NaN</td>\n",
       "      <td>NaN</td>\n",
       "      <td>NaN</td>\n",
       "      <td>NaN</td>\n",
       "      <td>NaN</td>\n",
       "      <td>NaN</td>\n",
       "      <td>NaN</td>\n",
       "      <td>NaN</td>\n",
       "    </tr>\n",
       "    <tr>\n",
       "      <th>3</th>\n",
       "      <td>31-03-2009</td>\n",
       "      <td>47.29</td>\n",
       "      <td>47.37</td>\n",
       "      <td>73.21</td>\n",
       "      <td>53.31</td>\n",
       "      <td>2.14</td>\n",
       "      <td>14.48</td>\n",
       "      <td>14.09</td>\n",
       "      <td>1.36</td>\n",
       "      <td>NaN</td>\n",
       "      <td>...</td>\n",
       "      <td>NaN</td>\n",
       "      <td>NaN</td>\n",
       "      <td>NaN</td>\n",
       "      <td>NaN</td>\n",
       "      <td>NaN</td>\n",
       "      <td>NaN</td>\n",
       "      <td>NaN</td>\n",
       "      <td>NaN</td>\n",
       "      <td>11.2769</td>\n",
       "      <td>NaN</td>\n",
       "    </tr>\n",
       "    <tr>\n",
       "      <th>4</th>\n",
       "      <td>31-03-2010</td>\n",
       "      <td>47.29</td>\n",
       "      <td>47.37</td>\n",
       "      <td>67.86</td>\n",
       "      <td>52.07</td>\n",
       "      <td>3.04</td>\n",
       "      <td>18.69</td>\n",
       "      <td>13.05</td>\n",
       "      <td>1.69</td>\n",
       "      <td>NaN</td>\n",
       "      <td>...</td>\n",
       "      <td>NaN</td>\n",
       "      <td>NaN</td>\n",
       "      <td>NaN</td>\n",
       "      <td>12.5</td>\n",
       "      <td>NaN</td>\n",
       "      <td>1.6117</td>\n",
       "      <td>NaN</td>\n",
       "      <td>NaN</td>\n",
       "      <td>13.3941</td>\n",
       "      <td>NaN</td>\n",
       "    </tr>\n",
       "  </tbody>\n",
       "</table>\n",
       "<p>5 rows × 1351 columns</p>\n",
       "</div>"
      ],
      "text/plain": [
       "2        year RIL_EDS RIL_SDS RIL_GDS RIL_ESGDS RIL_ALTMAN_Z_S  \\\n",
       "0  31-03-2006   35.66   28.07   46.43     36.36           3.26   \n",
       "1  31-03-2007   47.29   38.60   62.50     48.76           3.24   \n",
       "2  31-03-2008   47.29   47.37   62.50     50.83           3.62   \n",
       "3  31-03-2009   47.29   47.37   73.21     53.31           2.14   \n",
       "4  31-03-2010   47.29   47.37   67.86     52.07           3.04   \n",
       "\n",
       "2 RIL_RTN_COM_EQY RIL_PE_RATIO RIL_TOBIN_Q_RATIO RIL_NO_DIR_ON_BRD  ...  \\\n",
       "0           20.40        11.67              1.62               NaN  ...   \n",
       "1           20.25        16.50              1.93               NaN  ...   \n",
       "2           25.40        16.87              2.39               NaN  ...   \n",
       "3           14.48        14.09              1.36               NaN  ...   \n",
       "4           18.69        13.05              1.69               NaN  ...   \n",
       "\n",
       "2 YES_SHAREHOLDER_APPROVED_POISON_PILL YES_DUAL_CLASS_UNEQUAL_VTG_RTS  \\\n",
       "0                                  NaN                            NaN   \n",
       "1                                  NaN                            NaN   \n",
       "2                                  NaN                            NaN   \n",
       "3                                  NaN                            NaN   \n",
       "4                                  NaN                            NaN   \n",
       "\n",
       "2 YES_CLASSIFIED_BOARD_SYSTEM YES_PCT_WOMEN_ON_BOARD YES_BOARD_DURATION  \\\n",
       "0                         NaN                    NaN                NaN   \n",
       "1                         NaN                    NaN                NaN   \n",
       "2                         NaN                    NaN                NaN   \n",
       "3                         NaN                    NaN                NaN   \n",
       "4                         NaN                   12.5                NaN   \n",
       "\n",
       "2 YES_RETURN_ON_ASSET YES_CAPEX_TO_TOTAL_ASSETS YES_FUND_TOTAL_ASSETS  \\\n",
       "0                 NaN                       NaN                   NaN   \n",
       "1                 NaN                       NaN                   NaN   \n",
       "2                 NaN                       NaN                   NaN   \n",
       "3                 NaN                       NaN                   NaN   \n",
       "4              1.6117                       NaN                   NaN   \n",
       "\n",
       "2  YES_TOT_DEBT_TO_TOT_ASSET YES_IS_RD_EXPEND  \n",
       "0                        NaN              NaN  \n",
       "1                        NaN              NaN  \n",
       "2                        NaN              NaN  \n",
       "3                    11.2769              NaN  \n",
       "4                    13.3941              NaN  \n",
       "\n",
       "[5 rows x 1351 columns]"
      ]
     },
     "execution_count": 110,
     "metadata": {},
     "output_type": "execute_result"
    }
   ],
   "source": [
    "only_data_1.head()"
   ]
  },
  {
   "cell_type": "code",
   "execution_count": 98,
   "metadata": {},
   "outputs": [
    {
     "data": {
      "text/plain": [
       "2"
      ]
     },
     "execution_count": 98,
     "metadata": {},
     "output_type": "execute_result"
    }
   ],
   "source": [
    "len(only_data_1)"
   ]
  },
  {
   "cell_type": "code",
   "execution_count": 116,
   "metadata": {},
   "outputs": [
    {
     "data": {
      "text/plain": [
       "pandas.core.frame.DataFrame"
      ]
     },
     "execution_count": 116,
     "metadata": {},
     "output_type": "execute_result"
    }
   ],
   "source": [
    "type(only_data_1)"
   ]
  },
  {
   "cell_type": "code",
   "execution_count": 117,
   "metadata": {},
   "outputs": [],
   "source": [
    "only_data_1.to_csv(\"/Users/gnbhavithran/Downloads/ESG_2023_name_changed.csv\")"
   ]
  },
  {
   "cell_type": "code",
   "execution_count": 118,
   "metadata": {},
   "outputs": [],
   "source": [
    "only_data_1.to_excel(\"/Users/gnbhavithran/Downloads/ESG_2023_name_changed.xlsx\")"
   ]
  },
  {
   "cell_type": "code",
   "execution_count": null,
   "metadata": {},
   "outputs": [],
   "source": []
  }
 ],
 "metadata": {
  "kernelspec": {
   "display_name": "VT_codes",
   "language": "python",
   "name": "python3"
  },
  "language_info": {
   "codemirror_mode": {
    "name": "ipython",
    "version": 3
   },
   "file_extension": ".py",
   "mimetype": "text/x-python",
   "name": "python",
   "nbconvert_exporter": "python",
   "pygments_lexer": "ipython3",
   "version": "3.10.4"
  },
  "orig_nbformat": 4
 },
 "nbformat": 4,
 "nbformat_minor": 2
}
